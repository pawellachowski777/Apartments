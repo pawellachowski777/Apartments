{
 "cells": [
  {
   "cell_type": "code",
   "execution_count": 1,
   "metadata": {},
   "outputs": [],
   "source": [
    "import pandas as pd\n",
    "import numpy as np\n",
    "\n",
    "import seaborn as sns\n",
    "import matplotlib.pyplot as plt\n",
    "import pickle\n",
    "\n",
    "sns.set()"
   ]
  },
  {
   "cell_type": "markdown",
   "metadata": {},
   "source": [
    "Wczytuję dane i wykonuję modyfikację, takie jak podczas tworzenia regresji, aby uniknąć rozbierzności w danych."
   ]
  },
  {
   "cell_type": "code",
   "execution_count": 23,
   "metadata": {
    "scrolled": true
   },
   "outputs": [],
   "source": [
    "df_waw_text = pd.read_excel(r'E:\\python\\projects\\apartments\\data\\data_text.xlsx')\n",
    "\n",
    "df_waw_text.drop_duplicates(inplace=True)\n",
    "def drop_value(df, column, value): # funkcja do usuwania wybranych wartości\n",
    "    index = df[df[column] == value].index\n",
    "    df.drop(index=index, inplace=True)\n",
    "    df.reset_index(drop=True, inplace=True)\n",
    "\n",
    "drop_value(df_waw_text, 'zabudowa', 'Loft')\n",
    "drop_value(df_waw_text, 'zabudowa', 'Pozostałe')\n",
    "\n",
    "drop_value(df_waw_text, 'poziom', 'Suterena')\n",
    "drop_value(df_waw_text, 'poziom', 'Poddasze')\n",
    "\n",
    "drop_value(df_waw_text, 'poziom', 'Tak')\n",
    "drop_value(df_waw_text, 'poziom', 'Nie')\n",
    "\n",
    "dzielnica = pd.get_dummies(data=df_waw_text['dzielnica'])\n",
    "od = pd.get_dummies(data=df_waw_text['od'])\n",
    "poziom = pd.get_dummies(data=df_waw_text['poziom'])\n",
    "zabudowa = pd.get_dummies(data=df_waw_text['zabudowa'])\n",
    "\n",
    "df_waw_regression = pd.concat([df_waw_text, dzielnica, od, poziom, zabudowa], axis=1)\n",
    "\n",
    "y = df_waw_regression['cena całkowita']\n",
    "X = df_waw_regression.drop(['cena całkowita', 'dzielnica', 'od', 'poziom', 'zabudowa',\n",
    "                 'Mokotów', 'Osoby prywatnej', 'Powyżej 10', 'Apartamentowiec', 'tytuł', 'opis'], axis=1)\n",
    "\n",
    "X_train, X_test, y_train, y_test = train_test_split(X, y, test_size=0.33, random_state=60)"
   ]
  },
  {
   "cell_type": "code",
   "execution_count": 24,
   "metadata": {},
   "outputs": [],
   "source": [
    "lm = pickle.load(open(r'E:\\python\\projects\\apartments\\pickle\\linear_model.pickle', 'rb'))\n",
    "lm.fit(X, y)\n",
    "prediction = lm.predict(X) "
   ]
  },
  {
   "cell_type": "code",
   "execution_count": 25,
   "metadata": {
    "scrolled": true
   },
   "outputs": [
    {
     "data": {
      "text/plain": [
       "<AxesSubplot:ylabel='cena całkowita'>"
      ]
     },
     "execution_count": 25,
     "metadata": {},
     "output_type": "execute_result"
    },
    {
     "data": {
      "image/png": "[encoded data removed]",
      "text/plain": [
       "<Figure size 432x288 with 1 Axes>"
      ]
     },
     "metadata": {},
     "output_type": "display_data"
    }
   ],
   "source": [
    "sns.regplot(x=prediction, y=y)"
   ]
  },
  {
   "cell_type": "markdown",
   "metadata": {},
   "source": [
    "Model bez uwzględniania opisów radzi sobie całkiem dobrze, jednak pojawiają się punkty które znacząco odbiegają od predykcji. Być może metody pzetwarzania języka naturalnego będą potrafiły znaleźć pewne zależności i porpawić predyjkcję"
   ]
  },
  {
   "cell_type": "code",
   "execution_count": 26,
   "metadata": {
    "scrolled": true
   },
   "outputs": [
    {
     "data": {
      "text/html": [
       "<div>\n",
       "<style scoped>\n",
       "    .dataframe tbody tr th:only-of-type {\n",
       "        vertical-align: middle;\n",
       "    }\n",
       "\n",
       "    .dataframe tbody tr th {\n",
       "        vertical-align: top;\n",
       "    }\n",
       "\n",
       "    .dataframe thead th {\n",
       "        text-align: right;\n",
       "    }\n",
       "</style>\n",
       "<table border=\"1\" class=\"dataframe\">\n",
       "  <thead>\n",
       "    <tr style=\"text-align: right;\">\n",
       "      <th></th>\n",
       "      <th>dzielnica</th>\n",
       "      <th>od</th>\n",
       "      <th>poziom</th>\n",
       "      <th>zabudowa</th>\n",
       "      <th>powierzchnia</th>\n",
       "      <th>tytuł</th>\n",
       "      <th>opis</th>\n",
       "      <th>cena całkowita</th>\n",
       "      <th>predykcja</th>\n",
       "    </tr>\n",
       "  </thead>\n",
       "  <tbody>\n",
       "    <tr>\n",
       "      <th>5</th>\n",
       "      <td>Wola</td>\n",
       "      <td>Biuro / Deweloper</td>\n",
       "      <td>1</td>\n",
       "      <td>Blok</td>\n",
       "      <td>400</td>\n",
       "      <td>2 pokoje z miejscem postojowym w Centrum przy ...</td>\n",
       "      <td>Na wynajem mieszkanie 2 pokoje w stanie idealn...</td>\n",
       "      <td>3000</td>\n",
       "      <td>8793.63</td>\n",
       "    </tr>\n",
       "  </tbody>\n",
       "</table>\n",
       "</div>"
      ],
      "text/plain": [
       "  dzielnica                 od poziom zabudowa  powierzchnia  \\\n",
       "5      Wola  Biuro / Deweloper      1     Blok           400   \n",
       "\n",
       "                                               tytuł  \\\n",
       "5  2 pokoje z miejscem postojowym w Centrum przy ...   \n",
       "\n",
       "                                                opis  cena całkowita  \\\n",
       "5  Na wynajem mieszkanie 2 pokoje w stanie idealn...            3000   \n",
       "\n",
       "   predykcja  \n",
       "5    8793.63  "
      ]
     },
     "execution_count": 26,
     "metadata": {},
     "output_type": "execute_result"
    }
   ],
   "source": [
    "df_waw_text['predykcja'] = lm.predict(X)\n",
    "df_waw_text['predykcja'] = round(df_waw_text['predykcja'],2)\n",
    "\n",
    "df_waw_text[df_waw_text['predykcja'] == df_waw_text['predykcja'].max()]"
   ]
  },
  {
   "cell_type": "code",
   "execution_count": 27,
   "metadata": {},
   "outputs": [
    {
     "name": "stdout",
     "output_type": "stream",
     "text": [
      "|    | opis                                                                                                                                                                                                                                                                                                                                                                                                                                                                                                                                                                                                                                                                                                                                                                                                                                                                                            |\n",
      "|---:|:------------------------------------------------------------------------------------------------------------------------------------------------------------------------------------------------------------------------------------------------------------------------------------------------------------------------------------------------------------------------------------------------------------------------------------------------------------------------------------------------------------------------------------------------------------------------------------------------------------------------------------------------------------------------------------------------------------------------------------------------------------------------------------------------------------------------------------------------------------------------------------------------|\n",
      "|  5 | Na wynajem mieszkanie 2 pokoje w stanie idealnym z dużym, osłoniętym balkonem i miejscem postojowym w hali. Mieszkanie mieści się na osiedlu Kolska od Nowa. Ok. 40m2 przestronne, dużo miejsca do przechowywania. Duża szafa w sypialni, w przedpokoju, pawlacz, zabudowa w łazience, telewizor, nowoczesna kuchnia z piekarnikiem, lodówka, mikrofalówka, zmywarka, pralka z fukcją suszarki. Kuchnia wyposażona w naczynia, szklanki, garnki itd. Osiedle zamknięte z ochroną i sklepem żabka oraz miejscami wyznaczonymi do przypinania rowerów . Widok z okna na boisko i szkołe (cisza, intymność). W pobliżu biedronka, klif, arkadia (5minut piechotą) w pobliżu metro i tramwaj, autobus (kilka minut piechotą) Wynajem min. rok, przez biuro nieruchomości fiesta. Więcej informacji w wiadomości prywatnej. Cena 2600 plus opłaty, plus kaucja 1msc. Dostępne od ręki. Bez prowizji! |\n"
     ]
    }
   ],
   "source": [
    "print(df_waw_text['opis'][df_waw_text['predykcja'] == df_waw_text['predykcja'].max()].to_markdown())"
   ]
  },
  {
   "cell_type": "markdown",
   "metadata": {},
   "source": [
    "Jedna z predykcji jest wyjątkowo odległa od prawdy. Jest to jednak spowodowane błędem w ogłoszeniu. Z opisu wynika, że mieszkanie ma 40 metrów kwadratowych, natomiast w tabelce jest podane 400. "
   ]
  },
  {
   "cell_type": "code",
   "execution_count": 28,
   "metadata": {
    "scrolled": true
   },
   "outputs": [
    {
     "data": {
      "text/plain": [
       "<AxesSubplot:ylabel='cena całkowita'>"
      ]
     },
     "execution_count": 28,
     "metadata": {},
     "output_type": "execute_result"
    },
    {
     "data": {
      "image/png": "[encoded data removed]",
      "text/plain": [
       "<Figure size 432x288 with 1 Axes>"
      ]
     },
     "metadata": {},
     "output_type": "display_data"
    }
   ],
   "source": [
    "sns.regplot(x=np.delete(prediction, 5), y=y.drop(5))"
   ]
  },
  {
   "cell_type": "markdown",
   "metadata": {},
   "source": [
    "Wykres regresji bez tej wartości wygląda znacznie lepiej. Jednak wciąż pojawiają się punkty które znacząco odbiegają od predykcji. Być może metody pzetwarzania języka naturalnego będą potrafiły znaleźć pewne zależności i porpawić predyjkcję. Usunę ją recznie, aby nie zaburzało mi to następnych wykresów."
   ]
  },
  {
   "cell_type": "code",
   "execution_count": 29,
   "metadata": {},
   "outputs": [],
   "source": [
    "drop_value(df_waw_text, 'predykcja', df_waw_text['predykcja'].max())"
   ]
  },
  {
   "cell_type": "markdown",
   "metadata": {},
   "source": [
    "### EDA (Exploratory data analysis) pod kątem NLP"
   ]
  },
  {
   "cell_type": "markdown",
   "metadata": {},
   "source": [
    "Tworzę kolumnę składniki resztowe oraz kolumnę ze znormalizowanymi składnikami resztowymi."
   ]
  },
  {
   "cell_type": "code",
   "execution_count": 30,
   "metadata": {},
   "outputs": [
    {
     "data": {
      "text/html": [
       "<div>\n",
       "<style scoped>\n",
       "    .dataframe tbody tr th:only-of-type {\n",
       "        vertical-align: middle;\n",
       "    }\n",
       "\n",
       "    .dataframe tbody tr th {\n",
       "        vertical-align: top;\n",
       "    }\n",
       "\n",
       "    .dataframe thead th {\n",
       "        text-align: right;\n",
       "    }\n",
       "</style>\n",
       "<table border=\"1\" class=\"dataframe\">\n",
       "  <thead>\n",
       "    <tr style=\"text-align: right;\">\n",
       "      <th></th>\n",
       "      <th>dzielnica</th>\n",
       "      <th>od</th>\n",
       "      <th>poziom</th>\n",
       "      <th>zabudowa</th>\n",
       "      <th>powierzchnia</th>\n",
       "      <th>tytuł</th>\n",
       "      <th>opis</th>\n",
       "      <th>cena całkowita</th>\n",
       "      <th>predykcja</th>\n",
       "      <th>składniki resztowe</th>\n",
       "      <th>składniki resztowe norm</th>\n",
       "    </tr>\n",
       "  </thead>\n",
       "  <tbody>\n",
       "    <tr>\n",
       "      <th>0</th>\n",
       "      <td>Białołęka</td>\n",
       "      <td>Osoby prywatnej</td>\n",
       "      <td>1</td>\n",
       "      <td>Blok</td>\n",
       "      <td>46</td>\n",
       "      <td>Mieszkanie 49 m2 1300 zł + czynsz. Od zaraz</td>\n",
       "      <td>Do wynajęcia mieszkanie 49m2 na Białołęce przy...</td>\n",
       "      <td>1800</td>\n",
       "      <td>2101.59</td>\n",
       "      <td>-301.59</td>\n",
       "      <td>0.143506</td>\n",
       "    </tr>\n",
       "    <tr>\n",
       "      <th>1</th>\n",
       "      <td>Ursynów</td>\n",
       "      <td>Osoby prywatnej</td>\n",
       "      <td>3</td>\n",
       "      <td>Blok</td>\n",
       "      <td>64</td>\n",
       "      <td>Wynajmę 3-pokojowe mieszkanie na Kabatach przy...</td>\n",
       "      <td>Wynajmę na co najmniej rok 3-pokojowe umeblowa...</td>\n",
       "      <td>3000</td>\n",
       "      <td>2591.80</td>\n",
       "      <td>408.20</td>\n",
       "      <td>-0.157497</td>\n",
       "    </tr>\n",
       "    <tr>\n",
       "      <th>2</th>\n",
       "      <td>Mokotów</td>\n",
       "      <td>Osoby prywatnej</td>\n",
       "      <td>8</td>\n",
       "      <td>Blok</td>\n",
       "      <td>85</td>\n",
       "      <td>Mieszkanie do wynajęcia Służew Bezpośrednio</td>\n",
       "      <td>Wynajmę bezpośrednio duże przestronne 85m2 mie...</td>\n",
       "      <td>2901</td>\n",
       "      <td>3135.60</td>\n",
       "      <td>-234.60</td>\n",
       "      <td>0.074818</td>\n",
       "    </tr>\n",
       "    <tr>\n",
       "      <th>3</th>\n",
       "      <td>Ursynów</td>\n",
       "      <td>Osoby prywatnej</td>\n",
       "      <td>3</td>\n",
       "      <td>Blok</td>\n",
       "      <td>45</td>\n",
       "      <td>Wynajem mieszkanie Warszawa na Ursynowie</td>\n",
       "      <td>Witam \\nWynajmę śliczne mieszkanie na Ursynowi...</td>\n",
       "      <td>2800</td>\n",
       "      <td>2235.95</td>\n",
       "      <td>564.05</td>\n",
       "      <td>-0.252264</td>\n",
       "    </tr>\n",
       "    <tr>\n",
       "      <th>4</th>\n",
       "      <td>Białołęka</td>\n",
       "      <td>Osoby prywatnej</td>\n",
       "      <td>Parter</td>\n",
       "      <td>Blok</td>\n",
       "      <td>29</td>\n",
       "      <td>Funkcjonalna kawalerka z miejscem parkingowym ...</td>\n",
       "      <td>Nowa kawalerka z miejscem parkingowym w cenie ...</td>\n",
       "      <td>1750</td>\n",
       "      <td>1706.18</td>\n",
       "      <td>43.82</td>\n",
       "      <td>-0.025683</td>\n",
       "    </tr>\n",
       "  </tbody>\n",
       "</table>\n",
       "</div>"
      ],
      "text/plain": [
       "   dzielnica               od  poziom zabudowa  powierzchnia  \\\n",
       "0  Białołęka  Osoby prywatnej       1     Blok            46   \n",
       "1    Ursynów  Osoby prywatnej       3     Blok            64   \n",
       "2    Mokotów  Osoby prywatnej       8     Blok            85   \n",
       "3    Ursynów  Osoby prywatnej       3     Blok            45   \n",
       "4  Białołęka  Osoby prywatnej  Parter     Blok            29   \n",
       "\n",
       "                                               tytuł  \\\n",
       "0        Mieszkanie 49 m2 1300 zł + czynsz. Od zaraz   \n",
       "1  Wynajmę 3-pokojowe mieszkanie na Kabatach przy...   \n",
       "2        Mieszkanie do wynajęcia Służew Bezpośrednio   \n",
       "3           Wynajem mieszkanie Warszawa na Ursynowie   \n",
       "4  Funkcjonalna kawalerka z miejscem parkingowym ...   \n",
       "\n",
       "                                                opis  cena całkowita  \\\n",
       "0  Do wynajęcia mieszkanie 49m2 na Białołęce przy...            1800   \n",
       "1  Wynajmę na co najmniej rok 3-pokojowe umeblowa...            3000   \n",
       "2  Wynajmę bezpośrednio duże przestronne 85m2 mie...            2901   \n",
       "3  Witam \\nWynajmę śliczne mieszkanie na Ursynowi...            2800   \n",
       "4  Nowa kawalerka z miejscem parkingowym w cenie ...            1750   \n",
       "\n",
       "   predykcja  składniki resztowe  składniki resztowe norm  \n",
       "0    2101.59             -301.59                 0.143506  \n",
       "1    2591.80              408.20                -0.157497  \n",
       "2    3135.60             -234.60                 0.074818  \n",
       "3    2235.95              564.05                -0.252264  \n",
       "4    1706.18               43.82                -0.025683  "
      ]
     },
     "execution_count": 30,
     "metadata": {},
     "output_type": "execute_result"
    }
   ],
   "source": [
    "df_waw_text['składniki resztowe'] = df_waw_text['cena całkowita'] - df_waw_text['predykcja']\n",
    "df_waw_text['składniki resztowe norm'] = (df_waw_text['predykcja'] - df_waw_text['cena całkowita'])/ df_waw_text['predykcja']\n",
    "df_waw_text.head()"
   ]
  },
  {
   "cell_type": "code",
   "execution_count": 31,
   "metadata": {},
   "outputs": [],
   "source": [
    "df_waw_group = df_waw_text.groupby('dzielnica')"
   ]
  },
  {
   "cell_type": "code",
   "execution_count": 32,
   "metadata": {},
   "outputs": [
    {
     "data": {
      "image/png": "[encoded data removed]",
      "text/plain": [
       "<Figure size 1080x1080 with 20 Axes>"
      ]
     },
     "metadata": {},
     "output_type": "display_data"
    }
   ],
   "source": [
    "df_waw_text.hist(column='składniki resztowe', by='dzielnica', figsize=(15,15))\n",
    "plt.show()"
   ]
  },
  {
   "cell_type": "code",
   "execution_count": 33,
   "metadata": {
    "scrolled": false
   },
   "outputs": [
    {
     "name": "stdout",
     "output_type": "stream",
     "text": [
      "powierzchnia                 40.000000\n",
      "cena całkowita             2195.000000\n",
      "predykcja                  2195.240000\n",
      "składniki resztowe          -19.540000\n",
      "składniki resztowe norm       0.007853\n",
      "dtype: float64\n"
     ]
    },
    {
     "data": {
      "text/html": [
       "<div>\n",
       "<style scoped>\n",
       "    .dataframe tbody tr th:only-of-type {\n",
       "        vertical-align: middle;\n",
       "    }\n",
       "\n",
       "    .dataframe tbody tr th {\n",
       "        vertical-align: top;\n",
       "    }\n",
       "\n",
       "    .dataframe thead th {\n",
       "        text-align: right;\n",
       "    }\n",
       "</style>\n",
       "<table border=\"1\" class=\"dataframe\">\n",
       "  <thead>\n",
       "    <tr style=\"text-align: right;\">\n",
       "      <th></th>\n",
       "      <th>powierzchnia</th>\n",
       "      <th>cena całkowita</th>\n",
       "      <th>predykcja</th>\n",
       "      <th>składniki resztowe</th>\n",
       "      <th>składniki resztowe norm</th>\n",
       "    </tr>\n",
       "    <tr>\n",
       "      <th>dzielnica</th>\n",
       "      <th></th>\n",
       "      <th></th>\n",
       "      <th></th>\n",
       "      <th></th>\n",
       "      <th></th>\n",
       "    </tr>\n",
       "  </thead>\n",
       "  <tbody>\n",
       "    <tr>\n",
       "      <th>Bemowo</th>\n",
       "      <td>45.5</td>\n",
       "      <td>2178.5</td>\n",
       "      <td>2247.835</td>\n",
       "      <td>-60.115</td>\n",
       "      <td>0.028751</td>\n",
       "    </tr>\n",
       "    <tr>\n",
       "      <th>Białołęka</th>\n",
       "      <td>46.0</td>\n",
       "      <td>2001.0</td>\n",
       "      <td>2095.015</td>\n",
       "      <td>-67.535</td>\n",
       "      <td>0.035105</td>\n",
       "    </tr>\n",
       "    <tr>\n",
       "      <th>Bielany</th>\n",
       "      <td>40.0</td>\n",
       "      <td>2101.0</td>\n",
       "      <td>2132.290</td>\n",
       "      <td>4.560</td>\n",
       "      <td>-0.002540</td>\n",
       "    </tr>\n",
       "    <tr>\n",
       "      <th>Mokotów</th>\n",
       "      <td>40.0</td>\n",
       "      <td>2200.0</td>\n",
       "      <td>2231.595</td>\n",
       "      <td>-42.535</td>\n",
       "      <td>0.021387</td>\n",
       "    </tr>\n",
       "    <tr>\n",
       "      <th>Ochota</th>\n",
       "      <td>37.0</td>\n",
       "      <td>2101.0</td>\n",
       "      <td>2134.045</td>\n",
       "      <td>-13.470</td>\n",
       "      <td>0.005456</td>\n",
       "    </tr>\n",
       "    <tr>\n",
       "      <th>Praga-Południe</th>\n",
       "      <td>47.5</td>\n",
       "      <td>2300.5</td>\n",
       "      <td>2309.120</td>\n",
       "      <td>-46.820</td>\n",
       "      <td>0.019585</td>\n",
       "    </tr>\n",
       "    <tr>\n",
       "      <th>Praga-Północ</th>\n",
       "      <td>44.0</td>\n",
       "      <td>2301.0</td>\n",
       "      <td>2307.460</td>\n",
       "      <td>-14.160</td>\n",
       "      <td>0.007027</td>\n",
       "    </tr>\n",
       "    <tr>\n",
       "      <th>Rembertów</th>\n",
       "      <td>38.0</td>\n",
       "      <td>1801.0</td>\n",
       "      <td>1778.140</td>\n",
       "      <td>70.060</td>\n",
       "      <td>-0.040475</td>\n",
       "    </tr>\n",
       "    <tr>\n",
       "      <th>Targówek</th>\n",
       "      <td>41.0</td>\n",
       "      <td>2001.0</td>\n",
       "      <td>2024.430</td>\n",
       "      <td>13.110</td>\n",
       "      <td>-0.005995</td>\n",
       "    </tr>\n",
       "    <tr>\n",
       "      <th>Ursus</th>\n",
       "      <td>45.0</td>\n",
       "      <td>2200.0</td>\n",
       "      <td>2154.280</td>\n",
       "      <td>88.150</td>\n",
       "      <td>-0.039836</td>\n",
       "    </tr>\n",
       "    <tr>\n",
       "      <th>Ursynów</th>\n",
       "      <td>50.0</td>\n",
       "      <td>2450.5</td>\n",
       "      <td>2367.290</td>\n",
       "      <td>56.550</td>\n",
       "      <td>-0.021676</td>\n",
       "    </tr>\n",
       "    <tr>\n",
       "      <th>Wawer</th>\n",
       "      <td>35.0</td>\n",
       "      <td>1991.0</td>\n",
       "      <td>1827.340</td>\n",
       "      <td>-1.320</td>\n",
       "      <td>0.000552</td>\n",
       "    </tr>\n",
       "    <tr>\n",
       "      <th>Wesoła</th>\n",
       "      <td>48.5</td>\n",
       "      <td>2075.0</td>\n",
       "      <td>2072.365</td>\n",
       "      <td>-1.945</td>\n",
       "      <td>0.001833</td>\n",
       "    </tr>\n",
       "    <tr>\n",
       "      <th>Wilanów</th>\n",
       "      <td>43.0</td>\n",
       "      <td>2535.0</td>\n",
       "      <td>2588.300</td>\n",
       "      <td>-36.840</td>\n",
       "      <td>0.013215</td>\n",
       "    </tr>\n",
       "    <tr>\n",
       "      <th>Wola</th>\n",
       "      <td>37.0</td>\n",
       "      <td>2300.0</td>\n",
       "      <td>2278.185</td>\n",
       "      <td>-38.795</td>\n",
       "      <td>0.016350</td>\n",
       "    </tr>\n",
       "    <tr>\n",
       "      <th>Włochy</th>\n",
       "      <td>38.5</td>\n",
       "      <td>1925.5</td>\n",
       "      <td>1940.070</td>\n",
       "      <td>-25.695</td>\n",
       "      <td>0.015615</td>\n",
       "    </tr>\n",
       "    <tr>\n",
       "      <th>Śródmieście</th>\n",
       "      <td>37.0</td>\n",
       "      <td>2201.0</td>\n",
       "      <td>2238.100</td>\n",
       "      <td>3.140</td>\n",
       "      <td>-0.001219</td>\n",
       "    </tr>\n",
       "    <tr>\n",
       "      <th>Żoliborz</th>\n",
       "      <td>38.0</td>\n",
       "      <td>2200.0</td>\n",
       "      <td>2290.320</td>\n",
       "      <td>-76.330</td>\n",
       "      <td>0.038235</td>\n",
       "    </tr>\n",
       "  </tbody>\n",
       "</table>\n",
       "</div>"
      ],
      "text/plain": [
       "                powierzchnia  cena całkowita  predykcja  składniki resztowe  \\\n",
       "dzielnica                                                                     \n",
       "Bemowo                  45.5          2178.5   2247.835             -60.115   \n",
       "Białołęka               46.0          2001.0   2095.015             -67.535   \n",
       "Bielany                 40.0          2101.0   2132.290               4.560   \n",
       "Mokotów                 40.0          2200.0   2231.595             -42.535   \n",
       "Ochota                  37.0          2101.0   2134.045             -13.470   \n",
       "Praga-Południe          47.5          2300.5   2309.120             -46.820   \n",
       "Praga-Północ            44.0          2301.0   2307.460             -14.160   \n",
       "Rembertów               38.0          1801.0   1778.140              70.060   \n",
       "Targówek                41.0          2001.0   2024.430              13.110   \n",
       "Ursus                   45.0          2200.0   2154.280              88.150   \n",
       "Ursynów                 50.0          2450.5   2367.290              56.550   \n",
       "Wawer                   35.0          1991.0   1827.340              -1.320   \n",
       "Wesoła                  48.5          2075.0   2072.365              -1.945   \n",
       "Wilanów                 43.0          2535.0   2588.300             -36.840   \n",
       "Wola                    37.0          2300.0   2278.185             -38.795   \n",
       "Włochy                  38.5          1925.5   1940.070             -25.695   \n",
       "Śródmieście             37.0          2201.0   2238.100               3.140   \n",
       "Żoliborz                38.0          2200.0   2290.320             -76.330   \n",
       "\n",
       "                składniki resztowe norm  \n",
       "dzielnica                                \n",
       "Bemowo                         0.028751  \n",
       "Białołęka                      0.035105  \n",
       "Bielany                       -0.002540  \n",
       "Mokotów                        0.021387  \n",
       "Ochota                         0.005456  \n",
       "Praga-Południe                 0.019585  \n",
       "Praga-Północ                   0.007027  \n",
       "Rembertów                     -0.040475  \n",
       "Targówek                      -0.005995  \n",
       "Ursus                         -0.039836  \n",
       "Ursynów                       -0.021676  \n",
       "Wawer                          0.000552  \n",
       "Wesoła                         0.001833  \n",
       "Wilanów                        0.013215  \n",
       "Wola                           0.016350  \n",
       "Włochy                         0.015615  \n",
       "Śródmieście                   -0.001219  \n",
       "Żoliborz                       0.038235  "
      ]
     },
     "execution_count": 33,
     "metadata": {},
     "output_type": "execute_result"
    }
   ],
   "source": [
    "print(df_waw_text.median())\n",
    "df_waw_group.median()"
   ]
  },
  {
   "cell_type": "markdown",
   "metadata": {},
   "source": [
    "Mediana składników resztowych pokazuje, czy w danej dzielnicy większość cen jes zawyżonych (reszty dodatnie), czy zaniżonych (reszty ujemne).  *mediana dla Bemowa = -60.115, czyli 50% wszystkich predykcji jest niższa od ceny faktycznej o 60,12 zł*. Potwierdzenie togo widzać na wykresie powyżej.  \n",
    "Z danych wynika, że model zawyża najbardziej ceny na Ursusie, Rembertowie i Ursynowie. Zaniża zaś na Żoliborzu, Bemowie i Białołęce. Najtrafniej ocenia mieszkania z Wawra, Wesołej, Śródmieścia i Bielan.  \n",
    "Średnio dla całej Warszawy, większość predykcji jest nieznacznie zaniżona."
   ]
  },
  {
   "cell_type": "code",
   "execution_count": 34,
   "metadata": {},
   "outputs": [],
   "source": [
    "df_waw_group_abs = df_waw_group['składniki resztowe'].apply(abs)\n",
    "df_waw_group_abs = pd.concat([df_waw_text.drop(['składniki resztowe'], axis=1), df_waw_group_abs], axis=1)"
   ]
  },
  {
   "cell_type": "code",
   "execution_count": 35,
   "metadata": {},
   "outputs": [
    {
     "data": {
      "text/html": [
       "<div>\n",
       "<style scoped>\n",
       "    .dataframe tbody tr th:only-of-type {\n",
       "        vertical-align: middle;\n",
       "    }\n",
       "\n",
       "    .dataframe tbody tr th {\n",
       "        vertical-align: top;\n",
       "    }\n",
       "\n",
       "    .dataframe thead th {\n",
       "        text-align: right;\n",
       "    }\n",
       "</style>\n",
       "<table border=\"1\" class=\"dataframe\">\n",
       "  <thead>\n",
       "    <tr style=\"text-align: right;\">\n",
       "      <th></th>\n",
       "      <th>powierzchnia</th>\n",
       "      <th>cena całkowita</th>\n",
       "      <th>predykcja</th>\n",
       "      <th>składniki resztowe norm</th>\n",
       "      <th>składniki resztowe</th>\n",
       "    </tr>\n",
       "  </thead>\n",
       "  <tbody>\n",
       "    <tr>\n",
       "      <th>count</th>\n",
       "      <td>1011.000000</td>\n",
       "      <td>1011.000000</td>\n",
       "      <td>1011.000000</td>\n",
       "      <td>1011.000000</td>\n",
       "      <td>1011.000000</td>\n",
       "    </tr>\n",
       "    <tr>\n",
       "      <th>mean</th>\n",
       "      <td>42.828882</td>\n",
       "      <td>2235.282888</td>\n",
       "      <td>2229.552295</td>\n",
       "      <td>0.004279</td>\n",
       "      <td>323.032532</td>\n",
       "    </tr>\n",
       "    <tr>\n",
       "      <th>std</th>\n",
       "      <td>15.855580</td>\n",
       "      <td>655.671979</td>\n",
       "      <td>377.197229</td>\n",
       "      <td>0.196228</td>\n",
       "      <td>328.482567</td>\n",
       "    </tr>\n",
       "    <tr>\n",
       "      <th>min</th>\n",
       "      <td>2.000000</td>\n",
       "      <td>551.000000</td>\n",
       "      <td>1170.830000</td>\n",
       "      <td>-1.155305</td>\n",
       "      <td>1.320000</td>\n",
       "    </tr>\n",
       "    <tr>\n",
       "      <th>25%</th>\n",
       "      <td>32.000000</td>\n",
       "      <td>1801.000000</td>\n",
       "      <td>1999.780000</td>\n",
       "      <td>-0.093357</td>\n",
       "      <td>112.305000</td>\n",
       "    </tr>\n",
       "    <tr>\n",
       "      <th>50%</th>\n",
       "      <td>40.000000</td>\n",
       "      <td>2195.000000</td>\n",
       "      <td>2195.240000</td>\n",
       "      <td>0.007853</td>\n",
       "      <td>238.520000</td>\n",
       "    </tr>\n",
       "    <tr>\n",
       "      <th>75%</th>\n",
       "      <td>50.000000</td>\n",
       "      <td>2550.000000</td>\n",
       "      <td>2428.700000</td>\n",
       "      <td>0.118537</td>\n",
       "      <td>411.015000</td>\n",
       "    </tr>\n",
       "    <tr>\n",
       "      <th>max</th>\n",
       "      <td>160.000000</td>\n",
       "      <td>6200.000000</td>\n",
       "      <td>4248.120000</td>\n",
       "      <td>0.789321</td>\n",
       "      <td>3105.310000</td>\n",
       "    </tr>\n",
       "  </tbody>\n",
       "</table>\n",
       "</div>"
      ],
      "text/plain": [
       "       powierzchnia  cena całkowita    predykcja  składniki resztowe norm  \\\n",
       "count   1011.000000     1011.000000  1011.000000              1011.000000   \n",
       "mean      42.828882     2235.282888  2229.552295                 0.004279   \n",
       "std       15.855580      655.671979   377.197229                 0.196228   \n",
       "min        2.000000      551.000000  1170.830000                -1.155305   \n",
       "25%       32.000000     1801.000000  1999.780000                -0.093357   \n",
       "50%       40.000000     2195.000000  2195.240000                 0.007853   \n",
       "75%       50.000000     2550.000000  2428.700000                 0.118537   \n",
       "max      160.000000     6200.000000  4248.120000                 0.789321   \n",
       "\n",
       "       składniki resztowe  \n",
       "count         1011.000000  \n",
       "mean           323.032532  \n",
       "std            328.482567  \n",
       "min              1.320000  \n",
       "25%            112.305000  \n",
       "50%            238.520000  \n",
       "75%            411.015000  \n",
       "max           3105.310000  "
      ]
     },
     "execution_count": 35,
     "metadata": {},
     "output_type": "execute_result"
    }
   ],
   "source": [
    "df_waw_group_abs.describe()"
   ]
  },
  {
   "cell_type": "markdown",
   "metadata": {},
   "source": [
    "W tabeli powyżej przekształciłem kolumnę składnik resztowe w wartości absolutne (bez minusów). Dzięki temu mogę wyciągnąć średnią, która wynosi ok. 323,03. Model średnio mysli się taką wartość (bez uzględnienia w którą stronę). "
   ]
  },
  {
   "cell_type": "code",
   "execution_count": 36,
   "metadata": {},
   "outputs": [],
   "source": [
    "df_waw_text['tytuł długość'] = df_waw_text['tytuł'].str.split().apply(len)\n",
    "df_waw_text['opis długość'] = df_waw_text['opis'].str.split().apply(len)"
   ]
  },
  {
   "cell_type": "markdown",
   "metadata": {},
   "source": [
    "Liczę ilość słów w kolumnach tytuł i opis"
   ]
  },
  {
   "cell_type": "code",
   "execution_count": 37,
   "metadata": {
    "scrolled": true
   },
   "outputs": [
    {
     "data": {
      "text/html": [
       "<div>\n",
       "<style scoped>\n",
       "    .dataframe tbody tr th:only-of-type {\n",
       "        vertical-align: middle;\n",
       "    }\n",
       "\n",
       "    .dataframe tbody tr th {\n",
       "        vertical-align: top;\n",
       "    }\n",
       "\n",
       "    .dataframe thead th {\n",
       "        text-align: right;\n",
       "    }\n",
       "</style>\n",
       "<table border=\"1\" class=\"dataframe\">\n",
       "  <thead>\n",
       "    <tr style=\"text-align: right;\">\n",
       "      <th></th>\n",
       "      <th>dzielnica</th>\n",
       "      <th>od</th>\n",
       "      <th>poziom</th>\n",
       "      <th>zabudowa</th>\n",
       "      <th>powierzchnia</th>\n",
       "      <th>tytuł</th>\n",
       "      <th>opis</th>\n",
       "      <th>cena całkowita</th>\n",
       "      <th>predykcja</th>\n",
       "      <th>składniki resztowe</th>\n",
       "      <th>składniki resztowe norm</th>\n",
       "      <th>tytuł długość</th>\n",
       "      <th>opis długość</th>\n",
       "    </tr>\n",
       "  </thead>\n",
       "  <tbody>\n",
       "    <tr>\n",
       "      <th>0</th>\n",
       "      <td>Białołęka</td>\n",
       "      <td>Osoby prywatnej</td>\n",
       "      <td>1</td>\n",
       "      <td>Blok</td>\n",
       "      <td>46</td>\n",
       "      <td>Mieszkanie 49 m2 1300 zł + czynsz. Od zaraz</td>\n",
       "      <td>Do wynajęcia mieszkanie 49m2 na Białołęce przy...</td>\n",
       "      <td>1800</td>\n",
       "      <td>2101.59</td>\n",
       "      <td>-301.59</td>\n",
       "      <td>0.143506</td>\n",
       "      <td>9</td>\n",
       "      <td>35</td>\n",
       "    </tr>\n",
       "    <tr>\n",
       "      <th>1</th>\n",
       "      <td>Ursynów</td>\n",
       "      <td>Osoby prywatnej</td>\n",
       "      <td>3</td>\n",
       "      <td>Blok</td>\n",
       "      <td>64</td>\n",
       "      <td>Wynajmę 3-pokojowe mieszkanie na Kabatach przy...</td>\n",
       "      <td>Wynajmę na co najmniej rok 3-pokojowe umeblowa...</td>\n",
       "      <td>3000</td>\n",
       "      <td>2591.80</td>\n",
       "      <td>408.20</td>\n",
       "      <td>-0.157497</td>\n",
       "      <td>7</td>\n",
       "      <td>228</td>\n",
       "    </tr>\n",
       "    <tr>\n",
       "      <th>2</th>\n",
       "      <td>Mokotów</td>\n",
       "      <td>Osoby prywatnej</td>\n",
       "      <td>8</td>\n",
       "      <td>Blok</td>\n",
       "      <td>85</td>\n",
       "      <td>Mieszkanie do wynajęcia Służew Bezpośrednio</td>\n",
       "      <td>Wynajmę bezpośrednio duże przestronne 85m2 mie...</td>\n",
       "      <td>2901</td>\n",
       "      <td>3135.60</td>\n",
       "      <td>-234.60</td>\n",
       "      <td>0.074818</td>\n",
       "      <td>5</td>\n",
       "      <td>66</td>\n",
       "    </tr>\n",
       "    <tr>\n",
       "      <th>3</th>\n",
       "      <td>Ursynów</td>\n",
       "      <td>Osoby prywatnej</td>\n",
       "      <td>3</td>\n",
       "      <td>Blok</td>\n",
       "      <td>45</td>\n",
       "      <td>Wynajem mieszkanie Warszawa na Ursynowie</td>\n",
       "      <td>Witam \\nWynajmę śliczne mieszkanie na Ursynowi...</td>\n",
       "      <td>2800</td>\n",
       "      <td>2235.95</td>\n",
       "      <td>564.05</td>\n",
       "      <td>-0.252264</td>\n",
       "      <td>5</td>\n",
       "      <td>79</td>\n",
       "    </tr>\n",
       "    <tr>\n",
       "      <th>4</th>\n",
       "      <td>Białołęka</td>\n",
       "      <td>Osoby prywatnej</td>\n",
       "      <td>Parter</td>\n",
       "      <td>Blok</td>\n",
       "      <td>29</td>\n",
       "      <td>Funkcjonalna kawalerka z miejscem parkingowym ...</td>\n",
       "      <td>Nowa kawalerka z miejscem parkingowym w cenie ...</td>\n",
       "      <td>1750</td>\n",
       "      <td>1706.18</td>\n",
       "      <td>43.82</td>\n",
       "      <td>-0.025683</td>\n",
       "      <td>7</td>\n",
       "      <td>79</td>\n",
       "    </tr>\n",
       "  </tbody>\n",
       "</table>\n",
       "</div>"
      ],
      "text/plain": [
       "   dzielnica               od  poziom zabudowa  powierzchnia  \\\n",
       "0  Białołęka  Osoby prywatnej       1     Blok            46   \n",
       "1    Ursynów  Osoby prywatnej       3     Blok            64   \n",
       "2    Mokotów  Osoby prywatnej       8     Blok            85   \n",
       "3    Ursynów  Osoby prywatnej       3     Blok            45   \n",
       "4  Białołęka  Osoby prywatnej  Parter     Blok            29   \n",
       "\n",
       "                                               tytuł  \\\n",
       "0        Mieszkanie 49 m2 1300 zł + czynsz. Od zaraz   \n",
       "1  Wynajmę 3-pokojowe mieszkanie na Kabatach przy...   \n",
       "2        Mieszkanie do wynajęcia Służew Bezpośrednio   \n",
       "3           Wynajem mieszkanie Warszawa na Ursynowie   \n",
       "4  Funkcjonalna kawalerka z miejscem parkingowym ...   \n",
       "\n",
       "                                                opis  cena całkowita  \\\n",
       "0  Do wynajęcia mieszkanie 49m2 na Białołęce przy...            1800   \n",
       "1  Wynajmę na co najmniej rok 3-pokojowe umeblowa...            3000   \n",
       "2  Wynajmę bezpośrednio duże przestronne 85m2 mie...            2901   \n",
       "3  Witam \\nWynajmę śliczne mieszkanie na Ursynowi...            2800   \n",
       "4  Nowa kawalerka z miejscem parkingowym w cenie ...            1750   \n",
       "\n",
       "   predykcja  składniki resztowe  składniki resztowe norm  tytuł długość  \\\n",
       "0    2101.59             -301.59                 0.143506              9   \n",
       "1    2591.80              408.20                -0.157497              7   \n",
       "2    3135.60             -234.60                 0.074818              5   \n",
       "3    2235.95              564.05                -0.252264              5   \n",
       "4    1706.18               43.82                -0.025683              7   \n",
       "\n",
       "   opis długość  \n",
       "0            35  \n",
       "1           228  \n",
       "2            66  \n",
       "3            79  \n",
       "4            79  "
      ]
     },
     "execution_count": 37,
     "metadata": {},
     "output_type": "execute_result"
    }
   ],
   "source": [
    "df_waw_text.head()"
   ]
  },
  {
   "cell_type": "code",
   "execution_count": 38,
   "metadata": {},
   "outputs": [
    {
     "data": {
      "image/png": "[encoded data removed]",
      "text/plain": [
       "<Figure size 1008x720 with 3 Axes>"
      ]
     },
     "metadata": {},
     "output_type": "display_data"
    }
   ],
   "source": [
    "plt.figure(figsize=(14,10))\n",
    "\n",
    "plt.subplot(2, 2, 3)\n",
    "plt.hist(df_waw_text['tytuł długość'], bins=15)\n",
    "plt.title('Ilość słów w tytule', fontdict={'fontsize':14})\n",
    "\n",
    "plt.subplot(2, 2, 1)\n",
    "plt.hist(df_waw_text['opis długość'], bins=15)\n",
    "plt.title('Ilość słów w opisie', fontdict={'fontsize':14})\n",
    "\n",
    "plt.subplot(2, 2, 2)\n",
    "plt.hist(df_waw_text['opis długość'], bins=50)\n",
    "plt.title('Ilość słów w opisie, powiększenie', fontdict={'fontsize':14})\n",
    "plt.xlim(0, 500)\n",
    "plt.show()"
   ]
  },
  {
   "cell_type": "markdown",
   "metadata": {},
   "source": [
    "Większość opisów ogłoszeń liczy od 25 do 125 słów. Istnieje pare bardzo długich (ponad 600 słów). Większość tytułów posiada od 4 do 11 słów. Nie występują watrości zacząco odbiegające od średniej"
   ]
  },
  {
   "cell_type": "code",
   "execution_count": 39,
   "metadata": {},
   "outputs": [
    {
     "data": {
      "image/png": "[encoded data removed]",
      "text/plain": [
       "<Figure size 864x576 with 1 Axes>"
      ]
     },
     "metadata": {},
     "output_type": "display_data"
    }
   ],
   "source": [
    "plt.figure(figsize=(12,8))\n",
    "sns.boxplot(x=df_waw_text['od'], y=df_waw_text['opis długość'])\n",
    "plt.title('Długość opisu w zależności od osoby umiesczającej ogłoszenie', fontdict={'fontsize':15})\n",
    "plt.show()"
   ]
  },
  {
   "cell_type": "markdown",
   "metadata": {},
   "source": [
    "Ogłoszenia od osób prywatnych są zazwyczaj krótsze, jednak często pojawiają się ogłoszenia o wiele dłuższe. Ogłoszenia od deweloperów są bardziej usystematyzowane. "
   ]
  },
  {
   "cell_type": "code",
   "execution_count": 40,
   "metadata": {},
   "outputs": [
    {
     "data": {
      "image/png": "[encoded data removed]",
      "text/plain": [
       "<Figure size 1152x576 with 1 Axes>"
      ]
     },
     "metadata": {},
     "output_type": "display_data"
    }
   ],
   "source": [
    "plt.figure(figsize=(16,8))\n",
    "sns.regplot(x=df_waw_text['cena całkowita'], y=df_waw_text['opis długość'])\n",
    "plt.show()"
   ]
  },
  {
   "cell_type": "markdown",
   "metadata": {},
   "source": [
    "Liniowa zależność między długością opisu a ceną mieszkania nie występuje."
   ]
  },
  {
   "cell_type": "markdown",
   "metadata": {},
   "source": [
    "Zapiszę posiadaną tabelę za pomocą pickle"
   ]
  },
  {
   "cell_type": "code",
   "execution_count": 42,
   "metadata": {
    "scrolled": false
   },
   "outputs": [
    {
     "data": {
      "image/png": "[encoded data removed]",
      "text/plain": [
       "<Figure size 864x432 with 1 Axes>"
      ]
     },
     "metadata": {},
     "output_type": "display_data"
    }
   ],
   "source": [
    "q1 = df_waw_text['składniki resztowe norm'].quantile(q=1/3)\n",
    "q2 = df_waw_text['składniki resztowe norm'].quantile(q=2/3)\n",
    "\n",
    "plt.figure(figsize=(12,6))\n",
    "sns.histplot(df_waw_text['składniki resztowe norm'], kde = True)\n",
    "plt.title('Znormalizowane składniki resztowe', fontdict={'fontsize':15})\n",
    "\n",
    "plt.plot([q1,q1], [0,110], color='r', lw=3)\n",
    "plt.plot([q2,q2], [0,110], color='r', lw=3)\n",
    "plt.text(q1-0.15, 100, 'q(1/3)', fontdict={'fontsize':14})\n",
    "plt.text(q1+0.02, 100, 'q(2/3)', fontdict={'fontsize':14})\n",
    "plt.text(q2+0.02, 100, 'q(3/3)', fontdict={'fontsize':14})\n",
    "\n",
    "plt.show()"
   ]
  },
  {
   "cell_type": "markdown",
   "metadata": {},
   "source": [
    "Znormalizowane składniki resztowe będą dla mnie stanowiły grupy odniesienia w dalszej części. *q(1/3)* jest grupą niedowardościowaną (jedna trzecia wszystkich obserwacji). *q(2/3)* jest grupą trafnie oceniną (jedna trzecia wszystkich obserwacji), a *q(3/3)* jest grupą przecenioną (jedna trzecia wszystkich obserwacji). Na podstawie opisów i predykcji spróbuję przypisać właściwe etykiety do ogłoszeń."
   ]
  },
  {
   "cell_type": "code",
   "execution_count": 78,
   "metadata": {},
   "outputs": [],
   "source": [
    "df_waw_text.to_pickle(r'E:\\python\\projects\\apartments\\pickle\\df_waw_text.pickle')"
   ]
  },
  {
   "cell_type": "markdown",
   "metadata": {},
   "source": [
    "## Przetwarzanie tekstu"
   ]
  },
  {
   "cell_type": "code",
   "execution_count": 32,
   "metadata": {},
   "outputs": [],
   "source": [
    "import re\n",
    "import pandas as pd\n",
    "import pickle\n",
    "\n",
    "from sklearn.feature_extraction.text import CountVectorizer, TfidfTransformer\n",
    "from sklearn.model_selection import train_test_split\n",
    "from sklearn.pipeline import Pipeline\n",
    "from sklearn.naive_bayes import MultinomialNB\n",
    "from sklearn.metrics import confusion_matrix, classification_report"
   ]
  },
  {
   "cell_type": "code",
   "execution_count": 13,
   "metadata": {},
   "outputs": [],
   "source": [
    "df_waw_text = pd.read_pickle(r'E:\\python\\projects\\apartments\\pickle\\df_waw_text.pickle')"
   ]
  },
  {
   "cell_type": "markdown",
   "metadata": {},
   "source": [
    "### Czyszczenie tekstu"
   ]
  },
  {
   "cell_type": "code",
   "execution_count": 178,
   "metadata": {},
   "outputs": [
    {
     "data": {
      "text/plain": [
       "'wb'"
      ]
     },
     "execution_count": 178,
     "metadata": {},
     "output_type": "execute_result"
    }
   ],
   "source": [
    "text = 'wb 30m2'\n",
    "text = re.sub(r' \\d+\\s*\\w2' , '', text)\n",
    "text"
   ]
  },
  {
   "cell_type": "code",
   "execution_count": 190,
   "metadata": {},
   "outputs": [],
   "source": [
    "def clean_data(text):\n",
    "    text = text.lower() # małe litery\n",
    "    text = re.sub(r'\\W', ' ', text) # usunięcie znaków np. nawiasy\n",
    "    text = re.sub('\\n', ' ', text) # usuniecie nowych linii\n",
    "    text = re.sub(r'\\d\\d\\d\\W* pokaż numer telefonu', '', text) # usunięcie ukrytych telefonów\n",
    "    text = re.sub(r'\\d+\\s*\\d+\\s* zł| \\d+\\s*\\d+\\s* pln| \\d+\\s*\\d+\\s* zl', '', text) # usunięcie cen\n",
    "    try:\n",
    "        text_new = re.findall(r'\\d\\s* po\\w+', text)[0].replace(' ','') # łączy liczbę z pokojem\n",
    "        text = re.sub(r'\\d\\s* pok\\w+', text_new, text)\n",
    "    except Exception:\n",
    "        pass\n",
    "    text = re.sub(r' \\d+\\s*\\w2' , '', text) # usuwa m2\n",
    "    return text\n",
    "    #text = re.sub('\\w*\\d\\w*', '', text)"
   ]
  },
  {
   "cell_type": "code",
   "execution_count": 191,
   "metadata": {},
   "outputs": [
    {
     "data": {
      "text/html": [
       "<div>\n",
       "<style scoped>\n",
       "    .dataframe tbody tr th:only-of-type {\n",
       "        vertical-align: middle;\n",
       "    }\n",
       "\n",
       "    .dataframe tbody tr th {\n",
       "        vertical-align: top;\n",
       "    }\n",
       "\n",
       "    .dataframe thead th {\n",
       "        text-align: right;\n",
       "    }\n",
       "</style>\n",
       "<table border=\"1\" class=\"dataframe\">\n",
       "  <thead>\n",
       "    <tr style=\"text-align: right;\">\n",
       "      <th></th>\n",
       "      <th>cena całkowita</th>\n",
       "      <th>składniki resztowe norm</th>\n",
       "      <th>opis</th>\n",
       "      <th>tytuł</th>\n",
       "    </tr>\n",
       "  </thead>\n",
       "  <tbody>\n",
       "    <tr>\n",
       "      <th>0</th>\n",
       "      <td>1800</td>\n",
       "      <td>0.143506</td>\n",
       "      <td>do wynajęcia mieszkanie na białołęce przy ul  ...</td>\n",
       "      <td>mieszkanie 49 m   czynsz  od zaraz</td>\n",
       "    </tr>\n",
       "    <tr>\n",
       "      <th>1</th>\n",
       "      <td>3000</td>\n",
       "      <td>-0.157497</td>\n",
       "      <td>wynajmę na co najmniej rok 3pokojowe umeblowan...</td>\n",
       "      <td>wynajmę 3pokojowe mieszkanie na kabatach przy ...</td>\n",
       "    </tr>\n",
       "    <tr>\n",
       "      <th>2</th>\n",
       "      <td>2901</td>\n",
       "      <td>0.074818</td>\n",
       "      <td>wynajmę bezpośrednio duże przestronne mieszkan...</td>\n",
       "      <td>mieszkanie do wynajęcia służew bezpośrednio</td>\n",
       "    </tr>\n",
       "    <tr>\n",
       "      <th>3</th>\n",
       "      <td>2800</td>\n",
       "      <td>-0.252264</td>\n",
       "      <td>witam  wynajmę śliczne mieszkanie na ursynowie...</td>\n",
       "      <td>wynajem mieszkanie warszawa na ursynowie</td>\n",
       "    </tr>\n",
       "    <tr>\n",
       "      <th>4</th>\n",
       "      <td>1750</td>\n",
       "      <td>-0.025683</td>\n",
       "      <td>nowa kawalerka z miejscem parkingowym w cenie ...</td>\n",
       "      <td>funkcjonalna kawalerka z miejscem parkingowym ...</td>\n",
       "    </tr>\n",
       "  </tbody>\n",
       "</table>\n",
       "</div>"
      ],
      "text/plain": [
       "   cena całkowita  składniki resztowe norm  \\\n",
       "0            1800                 0.143506   \n",
       "1            3000                -0.157497   \n",
       "2            2901                 0.074818   \n",
       "3            2800                -0.252264   \n",
       "4            1750                -0.025683   \n",
       "\n",
       "                                                opis  \\\n",
       "0  do wynajęcia mieszkanie na białołęce przy ul  ...   \n",
       "1  wynajmę na co najmniej rok 3pokojowe umeblowan...   \n",
       "2  wynajmę bezpośrednio duże przestronne mieszkan...   \n",
       "3  witam  wynajmę śliczne mieszkanie na ursynowie...   \n",
       "4  nowa kawalerka z miejscem parkingowym w cenie ...   \n",
       "\n",
       "                                               tytuł  \n",
       "0                 mieszkanie 49 m   czynsz  od zaraz  \n",
       "1  wynajmę 3pokojowe mieszkanie na kabatach przy ...  \n",
       "2        mieszkanie do wynajęcia służew bezpośrednio  \n",
       "3           wynajem mieszkanie warszawa na ursynowie  \n",
       "4  funkcjonalna kawalerka z miejscem parkingowym ...  "
      ]
     },
     "execution_count": 191,
     "metadata": {},
     "output_type": "execute_result"
    }
   ],
   "source": [
    "description = df_waw_text['opis'].apply(clean_data)\n",
    "title = df_waw_text['tytuł'].apply(clean_data)\n",
    "data_clean = pd.concat([df_waw_text[['cena całkowita', 'składniki resztowe norm']], description, title,], axis=1)\n",
    "data_clean.head()"
   ]
  },
  {
   "cell_type": "code",
   "execution_count": 192,
   "metadata": {},
   "outputs": [
    {
     "name": "stdout",
     "output_type": "stream",
     "text": [
      "1011\n",
      "337\n",
      "337\n",
      "337\n"
     ]
    }
   ],
   "source": [
    "q1 = df_waw_text['składniki resztowe norm'].quantile(q=1/3)\n",
    "q2 = df_waw_text['składniki resztowe norm'].quantile(q=2/3)\n",
    "\n",
    "df_waw_text_sort = data_clean.sort_values('składniki resztowe norm')\n",
    "df_waw_text_underpriced = df_waw_text_sort[df_waw_text_sort['składniki resztowe norm'] < q1]\n",
    "df_waw_text_normal = df_waw_text_sort[(df_waw_text_sort['składniki resztowe norm'] < q2) &\n",
    "                                      (df_waw_text_sort['składniki resztowe norm'] > q1)]\n",
    "df_waw_text_overpriced = df_waw_text_sort[df_waw_text_sort['składniki resztowe norm'] > q2]\n",
    "\n",
    "print(len(df_waw_text))\n",
    "print(len(df_waw_text_underpriced))\n",
    "print(len(df_waw_text_normal ))\n",
    "print(len(df_waw_text_overpriced))\n",
    "\n",
    "df_waw_text_sort.loc[df_waw_text_overpriced.index, 'etykieta'] = 'przeszacowane'\n",
    "df_waw_text_sort.loc[df_waw_text_normal.index, 'etykieta'] = 'dobrze'\n",
    "df_waw_text_sort.loc[df_waw_text_underpriced.index, 'etykieta'] = 'niedoszacowane'\n",
    "\n",
    "df_waw_text_sort.to_pickle(r'E:\\python\\projects\\apartments\\pickle\\df_waw_text_sort.pickle')"
   ]
  },
  {
   "cell_type": "markdown",
   "metadata": {},
   "source": [
    "Stworzyłem tabelę *df_waw_text_sort* zawierającą etykiety, które z ogłoszeń zostały przeszacowane, niedoszacowane i ocenione dobrze. Zapisałem ją za pomocą pickle."
   ]
  },
  {
   "cell_type": "markdown",
   "metadata": {},
   "source": [
    "### Wektoryzacja słów"
   ]
  },
  {
   "cell_type": "code",
   "execution_count": 217,
   "metadata": {},
   "outputs": [],
   "source": [
    "df_waw_text_sort = pd.read_pickle(r'E:\\python\\projects\\apartments\\pickle\\df_waw_text_sort.pickle')"
   ]
  },
  {
   "cell_type": "code",
   "execution_count": 218,
   "metadata": {},
   "outputs": [],
   "source": [
    "pol_stop_words = '''\n",
    "    ach aj albo bardzo bez bo być ci cię ciebie co czy daleko dla dlaczego dlatego do dobrze dokąd dość dużo dwa dwaj\n",
    "    dwie dwoje dziś dzisiaj gdyby gdzie go ich ile im inny ja ją jak jakby jaki je jeden jedna jedno jego jej jemu jeśli\n",
    "    jest jestem jeżeli już każdy kiedy kierunku kto ku lub ma mają mam mi mną mnie moi mój moja moje może mu my na nam \n",
    "    nami nas nasi nasz nasza nasze natychmiast nią nic nich nie niego niej niemu nigdy nim nimi niż obok od około on\n",
    "    ona one oni ono owszem po pod ponieważ przed przedtem są sam sama się skąd tak taki tam ten to tobą tobie tu\n",
    "    tutaj twoi twój twoja twoje ty wam wami was wasi wasz wasza wasze we więc wszystko wtedy wy żaden zawsze że\n",
    "    mieszkanie mieszkania oraz przy ul za ok czynsz kaucja opłaty zł wynajmę wynajęcia\n",
    "    '''.split()\n",
    "\n",
    "count_vectorizer_description = CountVectorizer(stop_words=pol_stop_words, lowercase=False)\n",
    "document_term_matrix_description = count_vectorizer_description.fit_transform(df_waw_text_sort['opis'])\n",
    "\n",
    "count_vectorizer_title = CountVectorizer(stop_words=pol_stop_words, lowercase=False)\n",
    "document_term_matrix_title = count_vectorizer_title.fit_transform(df_waw_text_sort['tytuł'])"
   ]
  },
  {
   "cell_type": "code",
   "execution_count": 219,
   "metadata": {},
   "outputs": [],
   "source": [
    "with open(r'E:\\python\\projects\\apartments\\pickle\\document_term_matrix_description.pickle', 'wb') as writer:\n",
    "    pickle.dump(document_term_matrix_description, writer)\n",
    "    \n",
    "with open(r'E:\\python\\projects\\apartments\\pickle\\document_term_matrix_title.pickle', 'wb') as writer:\n",
    "    pickle.dump(document_term_matrix_title, writer)"
   ]
  },
  {
   "cell_type": "markdown",
   "metadata": {},
   "source": [
    "Tworze df_document_term_matrix, zawierający występowania poszczególnych słow w zależności od etykiety."
   ]
  },
  {
   "cell_type": "code",
   "execution_count": 220,
   "metadata": {
    "scrolled": true
   },
   "outputs": [],
   "source": [
    "df_document_term_matrix_description = pd.DataFrame(document_term_matrix_description.toarray(),\n",
    "                                       columns=count_vectorizer_description.get_feature_names())\n",
    "df_document_term_matrix_description.index = df_waw_text_sort.index\n",
    "df_document_term_matrix_description['etykieta'] = df_waw_text_sort['etykieta']\n",
    "\n",
    "\n",
    "df_document_term_matrix_title = pd.DataFrame(document_term_matrix_title.toarray(),\n",
    "                                       columns=count_vectorizer_title.get_feature_names())\n",
    "df_document_term_matrix_title.index = df_waw_text_sort.index\n",
    "df_document_term_matrix_title['etykieta'] = df_waw_text_sort['etykieta']"
   ]
  },
  {
   "cell_type": "code",
   "execution_count": 221,
   "metadata": {
    "scrolled": true
   },
   "outputs": [],
   "source": [
    "df_document_term_matrix_words_description = df_document_term_matrix_description.groupby('etykieta').sum()\n",
    "df_document_term_matrix_words_description = df_document_term_matrix_words_description.transpose()\n",
    "\n",
    "df_document_term_matrix_words_title = df_document_term_matrix_title.groupby('etykieta').sum()\n",
    "df_document_term_matrix_words_title = df_document_term_matrix_words_title.transpose()"
   ]
  },
  {
   "cell_type": "code",
   "execution_count": 222,
   "metadata": {},
   "outputs": [],
   "source": [
    "top_dict = {}\n",
    "for c in df_document_term_matrix_words_description.columns:\n",
    "    top = df_document_term_matrix_words_description[c].sort_values(ascending=False).head(30)\n",
    "    top_dict[c] = list(zip(top.index, top.values))"
   ]
  },
  {
   "cell_type": "code",
   "execution_count": 223,
   "metadata": {
    "scrolled": true
   },
   "outputs": [],
   "source": [
    "top_dict_title = {}\n",
    "for c in df_document_term_matrix_words_title.columns:\n",
    "    top = df_document_term_matrix_words_title[c].sort_values(ascending=False).head(30)\n",
    "    top_dict_title[c] = list(zip(top.index, top.values))"
   ]
  },
  {
   "cell_type": "code",
   "execution_count": 224,
   "metadata": {
    "scrolled": true
   },
   "outputs": [
    {
     "data": {
      "text/plain": [
       "{'dobrze': [('kawalerka', 50),\n",
       "  ('2pokojowe', 48),\n",
       "  ('2pokoje', 46),\n",
       "  ('warszawa', 40),\n",
       "  ('bezpośrednio', 32),\n",
       "  ('metro', 22),\n",
       "  ('blisko', 21),\n",
       "  ('metra', 18),\n",
       "  ('mokotów', 16),\n",
       "  ('pokoje', 16),\n",
       "  ('pok', 16),\n",
       "  ('ochota', 15),\n",
       "  ('centrum', 15),\n",
       "  ('wynajem', 15),\n",
       "  ('garaż', 14),\n",
       "  ('dwupokojowe', 14),\n",
       "  ('metrze', 12),\n",
       "  ('nowe', 12),\n",
       "  ('3pokoje', 12),\n",
       "  ('bemowo', 11),\n",
       "  ('wola', 11),\n",
       "  ('kawalerkę', 10),\n",
       "  ('ursynów', 10),\n",
       "  ('żoliborz', 9),\n",
       "  ('cenie', 9),\n",
       "  ('bielany', 9),\n",
       "  ('przytulne', 9),\n",
       "  ('3pokojowe', 8),\n",
       "  ('apartament', 8),\n",
       "  ('wynajme', 7)],\n",
       " 'niedoszacowane': [('2pokoje', 35),\n",
       "  ('warszawa', 30),\n",
       "  ('bezpośrednio', 28),\n",
       "  ('3pokoje', 27),\n",
       "  ('metro', 27),\n",
       "  ('kawalerka', 26),\n",
       "  ('2pokojowe', 24),\n",
       "  ('garaż', 24),\n",
       "  ('nowe', 23),\n",
       "  ('3pokojowe', 22),\n",
       "  ('wynajem', 21),\n",
       "  ('pok', 21),\n",
       "  ('centrum', 20),\n",
       "  ('apartament', 20),\n",
       "  ('pokoje', 15),\n",
       "  ('garażem', 14),\n",
       "  ('prowizji', 14),\n",
       "  ('dwupokojowe', 13),\n",
       "  ('ochota', 13),\n",
       "  ('mokotów', 13),\n",
       "  ('ursynów', 13),\n",
       "  ('remoncie', 12),\n",
       "  ('metra', 10),\n",
       "  ('bielany', 9),\n",
       "  ('metrze', 9),\n",
       "  ('balkon', 8),\n",
       "  ('pl', 8),\n",
       "  ('ciche', 8),\n",
       "  ('wola', 8),\n",
       "  ('ochocie', 7)],\n",
       " 'przeszacowane': [('kawalerka', 94),\n",
       "  ('2pokoje', 37),\n",
       "  ('warszawa', 37),\n",
       "  ('metro', 29),\n",
       "  ('bezpośrednio', 27),\n",
       "  ('kawalerkę', 22),\n",
       "  ('2pokojowe', 20),\n",
       "  ('wynajem', 19),\n",
       "  ('centrum', 15),\n",
       "  ('mokotów', 14),\n",
       "  ('blisko', 13),\n",
       "  ('wola', 13),\n",
       "  ('dwupokojowe', 11),\n",
       "  ('balkon', 10),\n",
       "  ('pok', 10),\n",
       "  ('metra', 10),\n",
       "  ('bielany', 10),\n",
       "  ('studio', 10),\n",
       "  ('kuchnią', 9),\n",
       "  ('praga', 9),\n",
       "  ('pokój', 9),\n",
       "  ('nowe', 9),\n",
       "  ('3pokoje', 8),\n",
       "  ('woli', 8),\n",
       "  ('bemowo', 8),\n",
       "  ('kuchnia', 8),\n",
       "  ('prowizji', 8),\n",
       "  ('ursynów', 8),\n",
       "  ('cenie', 7),\n",
       "  ('białołęka', 7)]}"
      ]
     },
     "execution_count": 224,
     "metadata": {},
     "output_type": "execute_result"
    }
   ],
   "source": [
    "top_dict_title"
   ]
  },
  {
   "cell_type": "code",
   "execution_count": 225,
   "metadata": {},
   "outputs": [],
   "source": [
    "X_train_description, X_test_description, y_train_description, y_test_description = train_test_split(\n",
    "                                                                                        document_term_matrix_description,\n",
    "                                                                                        df_waw_text_sort['etykieta'],\n",
    "                                                                                        test_size=0.3, random_state=33\n",
    ")\n",
    "\n",
    "X_train_title, X_test_title, y_train_title, y_test_title = train_test_split(document_term_matrix_title,\n",
    "                                                                            df_waw_text_sort['etykieta'],\n",
    "                                                                            test_size=0.3, random_state=33)"
   ]
  },
  {
   "cell_type": "code",
   "execution_count": 226,
   "metadata": {
    "scrolled": false
   },
   "outputs": [
    {
     "name": "stdout",
     "output_type": "stream",
     "text": [
      "Wynik dla opisu\n",
      "[[67 22  8]\n",
      " [57 45  6]\n",
      " [67 13 19]]\n",
      "                precision    recall  f1-score   support\n",
      "\n",
      "        dobrze       0.35      0.69      0.47        97\n",
      "niedoszacowane       0.56      0.42      0.48       108\n",
      " przeszacowane       0.58      0.19      0.29        99\n",
      "\n",
      "      accuracy                           0.43       304\n",
      "     macro avg       0.50      0.43      0.41       304\n",
      "  weighted avg       0.50      0.43      0.41       304\n",
      "\n"
     ]
    }
   ],
   "source": [
    "pipeline_description = Pipeline([\n",
    "    ('tfidf', TfidfTransformer()),\n",
    "    ('clssifier', MultinomialNB())\n",
    "])\n",
    "pipeline_description.fit(X_train_description, y_train_description)\n",
    "prediction_description = pipeline_description.predict(X_test_description)\n",
    "\n",
    "print('Wynik dla opisu')\n",
    "print(confusion_matrix(y_test_description, prediction_description))\n",
    "print(classification_report(y_test_description, prediction_description))"
   ]
  },
  {
   "cell_type": "code",
   "execution_count": 227,
   "metadata": {
    "scrolled": true
   },
   "outputs": [
    {
     "name": "stdout",
     "output_type": "stream",
     "text": [
      "Wynik dla tytułu\n",
      "[[42 29 26]\n",
      " [48 37 23]\n",
      " [40 19 40]]\n",
      "                precision    recall  f1-score   support\n",
      "\n",
      "        dobrze       0.32      0.43      0.37        97\n",
      "niedoszacowane       0.44      0.34      0.38       108\n",
      " przeszacowane       0.45      0.40      0.43        99\n",
      "\n",
      "      accuracy                           0.39       304\n",
      "     macro avg       0.40      0.39      0.39       304\n",
      "  weighted avg       0.40      0.39      0.39       304\n",
      "\n"
     ]
    }
   ],
   "source": [
    "pipeline_title = Pipeline([\n",
    "    ('tfidf', TfidfTransformer()),\n",
    "    ('clssifier', MultinomialNB())\n",
    "])\n",
    "pipeline_title.fit(X_train_title, y_train_title)\n",
    "prediction_title = pipeline_title.predict(X_test_title)\n",
    "\n",
    "print('Wynik dla tytułu')\n",
    "print(confusion_matrix(y_test_title, prediction_title))\n",
    "print(classification_report(y_test_title, prediction_title))"
   ]
  },
  {
   "cell_type": "code",
   "execution_count": 286,
   "metadata": {
    "scrolled": true
   },
   "outputs": [
    {
     "name": "stdout",
     "output_type": "stream",
     "text": [
      "niedoszacowane\n",
      "przeszacowane\n",
      "przeszacowane\n",
      "niedoszacowane\n",
      "niedoszacowane\n",
      "niedoszacowane\n",
      "przeszacowane\n",
      "niedoszacowane\n",
      "niedoszacowane\n",
      "przeszacowane\n",
      "niedoszacowane\n",
      "przeszacowane\n",
      "niedoszacowane\n",
      "niedoszacowane\n",
      "niedoszacowane\n",
      "przeszacowane\n",
      "niedoszacowane\n",
      "przeszacowane\n",
      "przeszacowane\n",
      "przeszacowane\n",
      "niedoszacowane\n",
      "niedoszacowane\n",
      "niedoszacowane\n",
      "przeszacowane\n",
      "przeszacowane\n",
      "niedoszacowane\n",
      "niedoszacowane\n",
      "przeszacowane\n",
      "niedoszacowane\n",
      "niedoszacowane\n",
      "niedoszacowane\n",
      "przeszacowane\n",
      "niedoszacowane\n",
      "niedoszacowane\n"
     ]
    }
   ],
   "source": [
    "double_guess = []\n",
    "for i in range(len(y_test_title.values)):\n",
    "    if prediction_title[i] == y_test_title.values[i] and prediction_description[i] == y_test_description.values[i] and prediction_title[i] != 'dobrze':\n",
    "        double_guess.append(y_test_title.index[i])\n",
    "        print(prediction_title[i])"
   ]
  },
  {
   "cell_type": "code",
   "execution_count": 287,
   "metadata": {
    "scrolled": true
   },
   "outputs": [
    {
     "data": {
      "text/plain": [
       "34"
      ]
     },
     "execution_count": 287,
     "metadata": {},
     "output_type": "execute_result"
    }
   ],
   "source": [
    "len(double_guess)"
   ]
  },
  {
   "cell_type": "code",
   "execution_count": 288,
   "metadata": {},
   "outputs": [
    {
     "data": {
      "text/html": [
       "<div>\n",
       "<style scoped>\n",
       "    .dataframe tbody tr th:only-of-type {\n",
       "        vertical-align: middle;\n",
       "    }\n",
       "\n",
       "    .dataframe tbody tr th {\n",
       "        vertical-align: top;\n",
       "    }\n",
       "\n",
       "    .dataframe thead th {\n",
       "        text-align: right;\n",
       "    }\n",
       "</style>\n",
       "<table border=\"1\" class=\"dataframe\">\n",
       "  <thead>\n",
       "    <tr style=\"text-align: right;\">\n",
       "      <th></th>\n",
       "      <th>cena całkowita</th>\n",
       "      <th>składniki resztowe norm</th>\n",
       "      <th>opis</th>\n",
       "      <th>tytuł</th>\n",
       "      <th>etykieta</th>\n",
       "    </tr>\n",
       "  </thead>\n",
       "  <tbody>\n",
       "    <tr>\n",
       "      <th>31</th>\n",
       "      <td>2500</td>\n",
       "      <td>-0.172448</td>\n",
       "      <td>mieszkanie na zamkniętym zielonym osiedlu  now...</td>\n",
       "      <td>wynajmę mieszkanie przy metrze młociny  ul  ja...</td>\n",
       "      <td>niedoszacowane</td>\n",
       "    </tr>\n",
       "    <tr>\n",
       "      <th>262</th>\n",
       "      <td>2001</td>\n",
       "      <td>0.087489</td>\n",
       "      <td>dzien dobry  mam do wynajęcia od lutego1 miesz...</td>\n",
       "      <td>od lutego odkryta 2pokoje  wyjście na wał</td>\n",
       "      <td>przeszacowane</td>\n",
       "    </tr>\n",
       "  </tbody>\n",
       "</table>\n",
       "</div>"
      ],
      "text/plain": [
       "     cena całkowita  składniki resztowe norm  \\\n",
       "31             2500                -0.172448   \n",
       "262            2001                 0.087489   \n",
       "\n",
       "                                                  opis  \\\n",
       "31   mieszkanie na zamkniętym zielonym osiedlu  now...   \n",
       "262  dzien dobry  mam do wynajęcia od lutego1 miesz...   \n",
       "\n",
       "                                                 tytuł        etykieta  \n",
       "31   wynajmę mieszkanie przy metrze młociny  ul  ja...  niedoszacowane  \n",
       "262          od lutego odkryta 2pokoje  wyjście na wał   przeszacowane  "
      ]
     },
     "execution_count": 288,
     "metadata": {},
     "output_type": "execute_result"
    }
   ],
   "source": [
    "df_waw_text_sort.iloc[[140,677]]"
   ]
  },
  {
   "cell_type": "code",
   "execution_count": null,
   "metadata": {},
   "outputs": [],
   "source": []
  }
 ],
 "metadata": {
  "kernelspec": {
   "display_name": "Python 3",
   "language": "python",
   "name": "python3"
  },
  "language_info": {
   "codemirror_mode": {
    "name": "ipython",
    "version": 3
   },
   "file_extension": ".py",
   "mimetype": "text/x-python",
   "name": "python",
   "nbconvert_exporter": "python",
   "pygments_lexer": "ipython3",
   "version": "3.8.5"
  }
 },
 "nbformat": 4,
 "nbformat_minor": 4
}
