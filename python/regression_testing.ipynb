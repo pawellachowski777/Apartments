{
 "cells": [
  {
   "cell_type": "code",
   "execution_count": 84,
   "metadata": {},
   "outputs": [],
   "source": [
    "import pandas as pd\n",
    "import numpy as np\n",
    "from my_functions import drop_value\n",
    "\n",
    "from sklearn.linear_model import LinearRegression\n",
    "from sklearn.model_selection import train_test_split\n",
    "from sklearn import metrics\n",
    "from sklearn.preprocessing import StandardScaler, MinMaxScaler\n",
    "\n",
    "import statsmodels.api as sm\n",
    "from statsmodels.formula.api import ols\n",
    "import statsmodels.stats.api as sms"
   ]
  },
  {
   "cell_type": "markdown",
   "metadata": {},
   "source": [
    "Najpierw trzeba pozbyć się wsystkich tekstowych wartości z bazy, aby model regresji mógł je uwzględnić."
   ]
  },
  {
   "cell_type": "code",
   "execution_count": 52,
   "metadata": {},
   "outputs": [],
   "source": [
    "path_pickle = r'E:\\python\\projects\\apartments\\pickle'"
   ]
  },
  {
   "cell_type": "code",
   "execution_count": 57,
   "metadata": {},
   "outputs": [],
   "source": [
    "df_waw = pd.read_pickle(path_pickle + '\\df_waw_analyse_before.pickle')\n",
    "\n",
    "drop_value(df_waw, 'zabudowa', 'Loft')\n",
    "drop_value(df_waw, 'zabudowa', 'Pozostałe')\n",
    "drop_value(df_waw, 'poziom', 'Suterena')\n",
    "drop_value(df_waw, 'poziom', 'Poddasze')\n",
    "df_waw.drop(['cena za pokoj'], axis = 1, inplace = True)"
   ]
  },
  {
   "cell_type": "code",
   "execution_count": 54,
   "metadata": {},
   "outputs": [],
   "source": [
    "drop_value(df_waw, 'zabudowa', 'Loft')\n",
    "drop_value(df_waw, 'zabudowa', 'Pozostałe')\n",
    "drop_value(df_waw, 'poziom', 'Suterena')\n",
    "drop_value(df_waw, 'poziom', 'Poddasze')\n",
    "df_waw.drop(['cena za pokoj'], axis = 1, inplace = True)"
   ]
  },
  {
   "cell_type": "code",
   "execution_count": 56,
   "metadata": {
    "scrolled": true
   },
   "outputs": [
    {
     "data": {
      "text/html": [
       "<div>\n",
       "<style scoped>\n",
       "    .dataframe tbody tr th:only-of-type {\n",
       "        vertical-align: middle;\n",
       "    }\n",
       "\n",
       "    .dataframe tbody tr th {\n",
       "        vertical-align: top;\n",
       "    }\n",
       "\n",
       "    .dataframe thead th {\n",
       "        text-align: right;\n",
       "    }\n",
       "</style>\n",
       "<table border=\"1\" class=\"dataframe\">\n",
       "  <thead>\n",
       "    <tr style=\"text-align: right;\">\n",
       "      <th></th>\n",
       "      <th>dzielnica</th>\n",
       "      <th>od</th>\n",
       "      <th>poziom</th>\n",
       "      <th>umeblowanie</th>\n",
       "      <th>zabudowa</th>\n",
       "      <th>powierzchnia</th>\n",
       "      <th>cena całkowita</th>\n",
       "    </tr>\n",
       "  </thead>\n",
       "  <tbody>\n",
       "    <tr>\n",
       "      <th>0</th>\n",
       "      <td>Targówek</td>\n",
       "      <td>Biuro / Deweloper</td>\n",
       "      <td>2</td>\n",
       "      <td>1</td>\n",
       "      <td>Apartamentowiec</td>\n",
       "      <td>60</td>\n",
       "      <td>2301</td>\n",
       "    </tr>\n",
       "    <tr>\n",
       "      <th>1</th>\n",
       "      <td>Bielany</td>\n",
       "      <td>Osoby prywatnej</td>\n",
       "      <td>3</td>\n",
       "      <td>1</td>\n",
       "      <td>Apartamentowiec</td>\n",
       "      <td>56</td>\n",
       "      <td>3001</td>\n",
       "    </tr>\n",
       "    <tr>\n",
       "      <th>2</th>\n",
       "      <td>Śródmieście</td>\n",
       "      <td>Osoby prywatnej</td>\n",
       "      <td>2</td>\n",
       "      <td>1</td>\n",
       "      <td>Apartamentowiec</td>\n",
       "      <td>29</td>\n",
       "      <td>2201</td>\n",
       "    </tr>\n",
       "    <tr>\n",
       "      <th>3</th>\n",
       "      <td>Mokotów</td>\n",
       "      <td>Osoby prywatnej</td>\n",
       "      <td>2</td>\n",
       "      <td>1</td>\n",
       "      <td>Blok</td>\n",
       "      <td>20</td>\n",
       "      <td>2150</td>\n",
       "    </tr>\n",
       "    <tr>\n",
       "      <th>4</th>\n",
       "      <td>Wawer</td>\n",
       "      <td>Osoby prywatnej</td>\n",
       "      <td>2</td>\n",
       "      <td>1</td>\n",
       "      <td>Apartamentowiec</td>\n",
       "      <td>60</td>\n",
       "      <td>2800</td>\n",
       "    </tr>\n",
       "  </tbody>\n",
       "</table>\n",
       "</div>"
      ],
      "text/plain": [
       "     dzielnica                 od poziom  umeblowanie         zabudowa  \\\n",
       "0     Targówek  Biuro / Deweloper      2            1  Apartamentowiec   \n",
       "1      Bielany    Osoby prywatnej      3            1  Apartamentowiec   \n",
       "2  Śródmieście    Osoby prywatnej      2            1  Apartamentowiec   \n",
       "3      Mokotów    Osoby prywatnej      2            1             Blok   \n",
       "4        Wawer    Osoby prywatnej      2            1  Apartamentowiec   \n",
       "\n",
       "   powierzchnia  cena całkowita  \n",
       "0            60            2301  \n",
       "1            56            3001  \n",
       "2            29            2201  \n",
       "3            20            2150  \n",
       "4            60            2800  "
      ]
     },
     "execution_count": 56,
     "metadata": {},
     "output_type": "execute_result"
    }
   ],
   "source": [
    "# df_waw = pd.read_pickle(path_pickle + '\\df_waw_analyse_after.pickle')\n",
    "df_waw.head()"
   ]
  },
  {
   "cell_type": "code",
   "execution_count": null,
   "metadata": {},
   "outputs": [],
   "source": []
  },
  {
   "cell_type": "markdown",
   "metadata": {},
   "source": [
    "W kolumnach: \"dzielnica\", \"od\", \"poziom\", \"zabudowa\", trzeba utworzyć kolumny dummies. Dodatkowo muszę wyrzucić którąś z nowo utworzonych kolumn. W przeciwnym przypadku, model nie będzie w stanie zinterpretować czy zmiana jest spowodowana wartością 1 w tej kolumnie czy 0 w pozostałych.   \n",
    "Przykład: _Apartamentowiec = 1 - Blok - Dom - Kamienica - Szeregowiec_. Kolumna Apartamentowiec jest idealnie zdefiniowana przez pozostałe 4 kolumny. Prowadzi to do wielu problemów w regresji (nieinterpretowalność coeff, współliniowość zmiennych).   \n",
    "W kolumnach dummies odrzucam: Mokotów dla \"dzielnicy\", osoby przywatnej dla \"od\", powyżej 10 dla \"poziom\", apartamentowiec dla \"zabudowa\"."
   ]
  },
  {
   "cell_type": "code",
   "execution_count": null,
   "metadata": {},
   "outputs": [],
   "source": []
  },
  {
   "cell_type": "code",
   "execution_count": null,
   "metadata": {},
   "outputs": [],
   "source": []
  },
  {
   "cell_type": "code",
   "execution_count": 70,
   "metadata": {},
   "outputs": [
    {
     "name": "stdout",
     "output_type": "stream",
     "text": [
      "RMSE: 512.848562179458\n",
      "R^2:  0.5729\n"
     ]
    }
   ],
   "source": [
    "# z pokojami, z umeblowaniem, z poziomami, bez standaryzacji\n",
    "\n",
    "df_waw = pd.read_pickle(path_pickle + '\\df_waw_analyse_before.pickle')\n",
    "drop_value(df_waw, 'zabudowa', 'Loft')\n",
    "drop_value(df_waw, 'zabudowa', 'Pozostałe')\n",
    "drop_value(df_waw, 'poziom', 'Suterena')\n",
    "drop_value(df_waw, 'poziom', 'Poddasze')\n",
    "df_waw.drop(['cena za pokoj'], axis = 1, inplace = True)\n",
    "\n",
    "dzielnica = pd.get_dummies(data=df_waw['dzielnica'])\n",
    "od = pd.get_dummies(data=df_waw['od'])\n",
    "poziom = pd.get_dummies(data=df_waw['poziom'])\n",
    "zabudowa = pd.get_dummies(data=df_waw['zabudowa'])\n",
    "\n",
    "df_waw = pd.concat([df_waw, dzielnica, od, poziom, zabudowa], axis=1)\n",
    "y = df_waw['cena całkowita']\n",
    "X = df_waw.drop(['cena całkowita', 'dzielnica', 'od', 'poziom', 'zabudowa',\n",
    "                 'Mokotów', 'Osoby prywatnej', 'Powyżej 10', 'Apartamentowiec'], axis=1)\n",
    "\n",
    "X_train, X_test, y_train, y_test = train_test_split(X, y, test_size=0.33, random_state=60)\n",
    "lm = LinearRegression()\n",
    "lm.fit(X_train, y_train)\n",
    "prediction = lm.predict(X_test) \n",
    "sqrt = np.sqrt(metrics.mean_squared_error(y_test, prediction))\n",
    "r_sq = lm.score(X_test, y_test)\n",
    "print('RMSE:', sqrt)\n",
    "print('R^2: ', round(r_sq, 4))"
   ]
  },
  {
   "cell_type": "code",
   "execution_count": 71,
   "metadata": {},
   "outputs": [
    {
     "name": "stdout",
     "output_type": "stream",
     "text": [
      "RMSE: 517.0287890368211\n",
      "R^2:  0.5659\n"
     ]
    }
   ],
   "source": [
    "# z pokojami, bez umeblowania, bez poziomu, bez standaryzacji\n",
    "\n",
    "df_waw = pd.read_pickle(path_pickle + '\\df_waw_analyse_before.pickle')\n",
    "drop_value(df_waw, 'zabudowa', 'Loft')\n",
    "drop_value(df_waw, 'zabudowa', 'Pozostałe')\n",
    "drop_value(df_waw, 'poziom', 'Suterena')\n",
    "drop_value(df_waw, 'poziom', 'Poddasze')\n",
    "df_waw.drop(['cena za pokoj'], axis = 1, inplace = True)\n",
    "\n",
    "dzielnica = pd.get_dummies(data=df_waw['dzielnica'])\n",
    "od = pd.get_dummies(data=df_waw['od'])\n",
    "zabudowa = pd.get_dummies(data=df_waw['zabudowa'])\n",
    "\n",
    "df_waw = pd.concat([df_waw, dzielnica, od, zabudowa], axis=1)\n",
    "y = df_waw['cena całkowita']\n",
    "X = df_waw.drop(['cena całkowita', 'dzielnica', 'od', 'zabudowa', 'poziom', 'umeblowanie',\n",
    "                 'Mokotów', 'Osoby prywatnej', 'Apartamentowiec'], axis=1)\n",
    "\n",
    "X_train, X_test, y_train, y_test = train_test_split(X, y, test_size=0.33, random_state=60)\n",
    "lm = LinearRegression()\n",
    "lm.fit(X_train, y_train)\n",
    "prediction = lm.predict(X_test) \n",
    "sqrt = np.sqrt(metrics.mean_squared_error(y_test, prediction))\n",
    "r_sq = lm.score(X_test, y_test)\n",
    "print('RMSE:', sqrt)\n",
    "print('R^2: ', round(r_sq, 4))"
   ]
  },
  {
   "cell_type": "code",
   "execution_count": 72,
   "metadata": {},
   "outputs": [
    {
     "name": "stdout",
     "output_type": "stream",
     "text": [
      "RMSE: 512.847581061666\n",
      "R^2:  0.5729\n"
     ]
    }
   ],
   "source": [
    "# z pokojami, bez umeblowania, z poziomami, bez standaryzacji\n",
    "\n",
    "df_waw = pd.read_pickle(path_pickle + '\\df_waw_analyse_before.pickle')\n",
    "drop_value(df_waw, 'zabudowa', 'Loft')\n",
    "drop_value(df_waw, 'zabudowa', 'Pozostałe')\n",
    "drop_value(df_waw, 'poziom', 'Suterena')\n",
    "drop_value(df_waw, 'poziom', 'Poddasze')\n",
    "df_waw.drop(['cena za pokoj'], axis = 1, inplace = True)\n",
    "\n",
    "dzielnica = pd.get_dummies(data=df_waw['dzielnica'])\n",
    "od = pd.get_dummies(data=df_waw['od'])\n",
    "poziom = pd.get_dummies(data=df_waw['poziom'])\n",
    "zabudowa = pd.get_dummies(data=df_waw['zabudowa'])\n",
    "\n",
    "df_waw = pd.concat([df_waw, dzielnica, od, poziom, zabudowa], axis=1)\n",
    "y = df_waw['cena całkowita']\n",
    "X = df_waw.drop(['cena całkowita', 'dzielnica', 'od', 'poziom', 'zabudowa', 'umeblowanie',\n",
    "                 'Mokotów', 'Osoby prywatnej', 'Powyżej 10', 'Apartamentowiec'], axis=1)\n",
    "\n",
    "X_train, X_test, y_train, y_test = train_test_split(X, y, test_size=0.33, random_state=60)\n",
    "lm = LinearRegression()\n",
    "lm.fit(X_train, y_train)\n",
    "prediction = lm.predict(X_test) \n",
    "sqrt = np.sqrt(metrics.mean_squared_error(y_test, prediction))\n",
    "r_sq = lm.score(X_test, y_test)\n",
    "print('RMSE:', sqrt)\n",
    "print('R^2: ', round(r_sq, 4))"
   ]
  },
  {
   "cell_type": "code",
   "execution_count": 73,
   "metadata": {},
   "outputs": [
    {
     "name": "stdout",
     "output_type": "stream",
     "text": [
      "RMSE: 512.9139887056763\n",
      "R^2:  0.5728\n"
     ]
    }
   ],
   "source": [
    "# bez pokoi, bez umeblowania, z poziomem, bez standaryzacji\n",
    "\n",
    "df_waw = pd.read_pickle(path_pickle + '\\df_waw_analyse_before.pickle')\n",
    "drop_value(df_waw, 'zabudowa', 'Loft')\n",
    "drop_value(df_waw, 'zabudowa', 'Pozostałe')\n",
    "drop_value(df_waw, 'poziom', 'Suterena')\n",
    "drop_value(df_waw, 'poziom', 'Poddasze')\n",
    "df_waw.drop(['cena za pokoj', 'pokoje'], axis = 1, inplace = True)\n",
    "\n",
    "dzielnica = pd.get_dummies(data=df_waw['dzielnica'])\n",
    "od = pd.get_dummies(data=df_waw['od'])\n",
    "poziom = pd.get_dummies(data=df_waw['poziom'])\n",
    "zabudowa = pd.get_dummies(data=df_waw['zabudowa'])\n",
    "\n",
    "df_waw = pd.concat([df_waw, dzielnica, od, poziom, zabudowa], axis=1)\n",
    "y = df_waw['cena całkowita']\n",
    "X = df_waw.drop(['cena całkowita', 'dzielnica', 'od', 'poziom', 'zabudowa', 'umeblowanie',\n",
    "                 'Mokotów', 'Osoby prywatnej', 'Powyżej 10', 'Apartamentowiec'], axis=1)\n",
    "\n",
    "X_train, X_test, y_train, y_test = train_test_split(X, y, test_size=0.33, random_state=60)\n",
    "lm = LinearRegression()\n",
    "lm.fit(X_train, y_train)\n",
    "prediction = lm.predict(X_test) \n",
    "sqrt = np.sqrt(metrics.mean_squared_error(y_test, prediction))\n",
    "r_sq = lm.score(X_test, y_test)\n",
    "print('RMSE:', sqrt)\n",
    "print('R^2: ', round(r_sq, 4))"
   ]
  },
  {
   "cell_type": "code",
   "execution_count": 78,
   "metadata": {},
   "outputs": [
    {
     "name": "stdout",
     "output_type": "stream",
     "text": [
      "RMSE: 311.0105707458722\n",
      "R^2:  0.5953\n"
     ]
    }
   ],
   "source": [
    "# cena za pokój, z powierzchnią na pokój, bez standaryzacji\n",
    "\n",
    "df_waw = pd.read_pickle(path_pickle + '\\df_waw_analyse_before.pickle')\n",
    "df_waw['powierzchnia na pokoj'] = df_waw['powierzchnia'] / df_waw['pokoje']\n",
    "\n",
    "drop_value(df_waw, 'zabudowa', 'Loft')\n",
    "drop_value(df_waw, 'zabudowa', 'Pozostałe')\n",
    "drop_value(df_waw, 'poziom', 'Suterena')\n",
    "drop_value(df_waw, 'poziom', 'Poddasze')\n",
    "df_waw.drop(['cena za pokoj'], axis = 1, inplace = True)\n",
    "\n",
    "dzielnica = pd.get_dummies(data=df_waw['dzielnica'])\n",
    "od = pd.get_dummies(data=df_waw['od'])\n",
    "poziom = pd.get_dummies(data=df_waw['poziom'])\n",
    "zabudowa = pd.get_dummies(data=df_waw['zabudowa'])\n",
    "\n",
    "df_waw = pd.concat([df_waw, dzielnica, od, poziom, zabudowa], axis=1)\n",
    "y = df_waw['cena całkowita'] / df_waw['pokoje']\n",
    "X = df_waw.drop(['cena całkowita', 'dzielnica', 'od', 'poziom', 'zabudowa', 'umeblowanie', 'powierzchnia',\n",
    "                 'Mokotów', 'Osoby prywatnej', 'Powyżej 10', 'Apartamentowiec'], axis=1)\n",
    "\n",
    "X_train, X_test, y_train, y_test = train_test_split(X, y, test_size=0.33, random_state=60)\n",
    "lm = LinearRegression()\n",
    "lm.fit(X_train, y_train)\n",
    "prediction = lm.predict(X_test) \n",
    "sqrt = np.sqrt(metrics.mean_squared_error(y_test, prediction))\n",
    "r_sq = lm.score(X_test, y_test)\n",
    "print('RMSE:', sqrt)\n",
    "print('R^2: ', round(r_sq, 4))"
   ]
  },
  {
   "cell_type": "code",
   "execution_count": 82,
   "metadata": {},
   "outputs": [
    {
     "name": "stdout",
     "output_type": "stream",
     "text": [
      "RMSE: 311.01057074587226\n",
      "R^2:  0.5953\n"
     ]
    }
   ],
   "source": [
    "# cena za pokój, z powierzchnią na pokój, ze standaryzacja\n",
    "\n",
    "df_waw = pd.read_pickle(path_pickle + '\\df_waw_analyse_before.pickle')\n",
    "df_waw['powierzchnia na pokoj'] = df_waw['powierzchnia'] / df_waw['pokoje']\n",
    "\n",
    "drop_value(df_waw, 'zabudowa', 'Loft')\n",
    "drop_value(df_waw, 'zabudowa', 'Pozostałe')\n",
    "drop_value(df_waw, 'poziom', 'Suterena')\n",
    "drop_value(df_waw, 'poziom', 'Poddasze')\n",
    "df_waw.drop(['cena za pokoj'], axis = 1, inplace = True)\n",
    "\n",
    "dzielnica = pd.get_dummies(data=df_waw['dzielnica'])\n",
    "od = pd.get_dummies(data=df_waw['od'])\n",
    "poziom = pd.get_dummies(data=df_waw['poziom'])\n",
    "zabudowa = pd.get_dummies(data=df_waw['zabudowa'])\n",
    "\n",
    "df_waw = pd.concat([df_waw, dzielnica, od, poziom, zabudowa], axis=1)\n",
    "y = df_waw['cena całkowita'] / df_waw['pokoje']\n",
    "X = df_waw.drop(['cena całkowita', 'dzielnica', 'od', 'poziom', 'zabudowa', 'umeblowanie', 'powierzchnia',\n",
    "                 'Mokotów', 'Osoby prywatnej', 'Powyżej 10', 'Apartamentowiec'], axis=1)\n",
    "\n",
    "scaler = StandardScaler()\n",
    "X_scaled = scaler.fit_transform(X)\n",
    "X = pd.DataFrame(X_scaled, columns=X.columns)\n",
    "\n",
    "X_train, X_test, y_train, y_test = train_test_split(X, y, test_size=0.33, random_state=60)\n",
    "lm = LinearRegression()\n",
    "lm.fit(X_train, y_train)\n",
    "prediction = lm.predict(X_test) \n",
    "sqrt = np.sqrt(metrics.mean_squared_error(y_test, prediction))\n",
    "r_sq = lm.score(X_test, y_test)\n",
    "print('RMSE:', sqrt)\n",
    "print('R^2: ', round(r_sq, 4))"
   ]
  },
  {
   "cell_type": "code",
   "execution_count": 85,
   "metadata": {},
   "outputs": [
    {
     "name": "stdout",
     "output_type": "stream",
     "text": [
      "RMSE: 311.0105707458722\n",
      "R^2:  0.5953\n"
     ]
    }
   ],
   "source": [
    "# cena za pokój, z powierzchnią na pokój, z normalizacja\n",
    "\n",
    "df_waw = pd.read_pickle(path_pickle + '\\df_waw_analyse_before.pickle')\n",
    "df_waw['powierzchnia na pokoj'] = df_waw['powierzchnia'] / df_waw['pokoje']\n",
    "\n",
    "drop_value(df_waw, 'zabudowa', 'Loft')\n",
    "drop_value(df_waw, 'zabudowa', 'Pozostałe')\n",
    "drop_value(df_waw, 'poziom', 'Suterena')\n",
    "drop_value(df_waw, 'poziom', 'Poddasze')\n",
    "df_waw.drop(['cena za pokoj'], axis = 1, inplace = True)\n",
    "\n",
    "dzielnica = pd.get_dummies(data=df_waw['dzielnica'])\n",
    "od = pd.get_dummies(data=df_waw['od'])\n",
    "poziom = pd.get_dummies(data=df_waw['poziom'])\n",
    "zabudowa = pd.get_dummies(data=df_waw['zabudowa'])\n",
    "\n",
    "df_waw = pd.concat([df_waw, dzielnica, od, poziom, zabudowa], axis=1)\n",
    "y = df_waw['cena całkowita'] / df_waw['pokoje']\n",
    "X = df_waw.drop(['cena całkowita', 'dzielnica', 'od', 'poziom', 'zabudowa', 'umeblowanie', 'powierzchnia',\n",
    "                 'Mokotów', 'Osoby prywatnej', 'Powyżej 10', 'Apartamentowiec'], axis=1)\n",
    "\n",
    "scaler = MinMaxScaler()\n",
    "X_scaled = scaler.fit_transform(X)\n",
    "X = pd.DataFrame(X_scaled, columns=X.columns)\n",
    "\n",
    "X_train, X_test, y_train, y_test = train_test_split(X, y, test_size=0.33, random_state=60)\n",
    "lm = LinearRegression()\n",
    "lm.fit(X_train, y_train)\n",
    "prediction = lm.predict(X_test) \n",
    "sqrt = np.sqrt(metrics.mean_squared_error(y_test, prediction))\n",
    "r_sq = lm.score(X_test, y_test)\n",
    "print('RMSE:', sqrt)\n",
    "print('R^2: ', round(r_sq, 4))"
   ]
  },
  {
   "cell_type": "markdown",
   "metadata": {},
   "source": [
    " Standaryzacja i normalizacja nic nie zmienia."
   ]
  },
  {
   "cell_type": "code",
   "execution_count": null,
   "metadata": {},
   "outputs": [],
   "source": []
  }
 ],
 "metadata": {
  "kernelspec": {
   "display_name": "Python 3",
   "language": "python",
   "name": "python3"
  },
  "language_info": {
   "codemirror_mode": {
    "name": "ipython",
    "version": 3
   },
   "file_extension": ".py",
   "mimetype": "text/x-python",
   "name": "python",
   "nbconvert_exporter": "python",
   "pygments_lexer": "ipython3",
   "version": "3.8.5"
  }
 },
 "nbformat": 4,
 "nbformat_minor": 4
}
