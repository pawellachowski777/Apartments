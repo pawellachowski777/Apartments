{
 "cells": [
  {
   "cell_type": "code",
   "execution_count": 1,
   "metadata": {},
   "outputs": [],
   "source": [
    "import pandas as pd\n",
    "import numpy as np\n",
    "\n",
    "import matplotlib.pyplot as plt\n",
    "import seaborn as sns\n",
    "sns.set()\n",
    "\n",
    "from scipy import stats"
   ]
  },
  {
   "cell_type": "code",
   "execution_count": 18,
   "metadata": {},
   "outputs": [],
   "source": [
    "path_data = r'E:\\python\\projects\\apartments\\data'\n",
    "path_pickle = r'E:\\python\\projects\\apartments\\pickle'"
   ]
  },
  {
   "cell_type": "code",
   "execution_count": 19,
   "metadata": {},
   "outputs": [
    {
     "data": {
      "text/html": [
       "<div>\n",
       "<style scoped>\n",
       "    .dataframe tbody tr th:only-of-type {\n",
       "        vertical-align: middle;\n",
       "    }\n",
       "\n",
       "    .dataframe tbody tr th {\n",
       "        vertical-align: top;\n",
       "    }\n",
       "\n",
       "    .dataframe thead th {\n",
       "        text-align: right;\n",
       "    }\n",
       "</style>\n",
       "<table border=\"1\" class=\"dataframe\">\n",
       "  <thead>\n",
       "    <tr style=\"text-align: right;\">\n",
       "      <th></th>\n",
       "      <th>link</th>\n",
       "      <th>miasto</th>\n",
       "      <th>dzielnica</th>\n",
       "      <th>cena</th>\n",
       "      <th>od</th>\n",
       "      <th>poziom</th>\n",
       "      <th>umeblowanie</th>\n",
       "      <th>zabudowa</th>\n",
       "      <th>powierzchnia</th>\n",
       "      <th>pokoje</th>\n",
       "      <th>czynsz dodatkowo</th>\n",
       "    </tr>\n",
       "  </thead>\n",
       "  <tbody>\n",
       "    <tr>\n",
       "      <th>0</th>\n",
       "      <td>https://www.olx.pl/oferta/dwupokojowe-z-oddzie...</td>\n",
       "      <td>Warszawa,</td>\n",
       "      <td>Targówek</td>\n",
       "      <td>2300</td>\n",
       "      <td>Biuro / Deweloper</td>\n",
       "      <td>2</td>\n",
       "      <td>1</td>\n",
       "      <td>Apartamentowiec</td>\n",
       "      <td>60</td>\n",
       "      <td>2</td>\n",
       "      <td>1</td>\n",
       "    </tr>\n",
       "    <tr>\n",
       "      <th>1</th>\n",
       "      <td>https://www.olx.pl/oferta/2-pokoje-bielany-met...</td>\n",
       "      <td>Warszawa,</td>\n",
       "      <td>Bielany</td>\n",
       "      <td>3000</td>\n",
       "      <td>Osoby prywatnej</td>\n",
       "      <td>3</td>\n",
       "      <td>1</td>\n",
       "      <td>Apartamentowiec</td>\n",
       "      <td>56</td>\n",
       "      <td>2</td>\n",
       "      <td>1</td>\n",
       "    </tr>\n",
       "    <tr>\n",
       "      <th>2</th>\n",
       "      <td>https://www.olx.pl/oferta/kawalerka-browary-wa...</td>\n",
       "      <td>Warszawa,</td>\n",
       "      <td>Śródmieście</td>\n",
       "      <td>2200</td>\n",
       "      <td>Osoby prywatnej</td>\n",
       "      <td>2</td>\n",
       "      <td>1</td>\n",
       "      <td>Apartamentowiec</td>\n",
       "      <td>29</td>\n",
       "      <td>Kawalerka</td>\n",
       "      <td>1</td>\n",
       "    </tr>\n",
       "    <tr>\n",
       "      <th>3</th>\n",
       "      <td>https://www.olx.pl/oferta/dwupokojowa-kawalerk...</td>\n",
       "      <td>Warszawa,</td>\n",
       "      <td>Mokotów</td>\n",
       "      <td>1800</td>\n",
       "      <td>Osoby prywatnej</td>\n",
       "      <td>2</td>\n",
       "      <td>1</td>\n",
       "      <td>Blok</td>\n",
       "      <td>20</td>\n",
       "      <td>2</td>\n",
       "      <td>350</td>\n",
       "    </tr>\n",
       "    <tr>\n",
       "      <th>4</th>\n",
       "      <td>https://www.olx.pl/oferta/wynajme-mieszkanie-f...</td>\n",
       "      <td>Warszawa,</td>\n",
       "      <td>Wawer</td>\n",
       "      <td>2300</td>\n",
       "      <td>Osoby prywatnej</td>\n",
       "      <td>2</td>\n",
       "      <td>1</td>\n",
       "      <td>Apartamentowiec</td>\n",
       "      <td>60</td>\n",
       "      <td>3</td>\n",
       "      <td>500</td>\n",
       "    </tr>\n",
       "  </tbody>\n",
       "</table>\n",
       "</div>"
      ],
      "text/plain": [
       "                                                link     miasto    dzielnica  \\\n",
       "0  https://www.olx.pl/oferta/dwupokojowe-z-oddzie...  Warszawa,     Targówek   \n",
       "1  https://www.olx.pl/oferta/2-pokoje-bielany-met...  Warszawa,      Bielany   \n",
       "2  https://www.olx.pl/oferta/kawalerka-browary-wa...  Warszawa,  Śródmieście   \n",
       "3  https://www.olx.pl/oferta/dwupokojowa-kawalerk...  Warszawa,      Mokotów   \n",
       "4  https://www.olx.pl/oferta/wynajme-mieszkanie-f...  Warszawa,        Wawer   \n",
       "\n",
       "   cena                 od poziom  umeblowanie         zabudowa  powierzchnia  \\\n",
       "0  2300  Biuro / Deweloper      2            1  Apartamentowiec            60   \n",
       "1  3000    Osoby prywatnej      3            1  Apartamentowiec            56   \n",
       "2  2200    Osoby prywatnej      2            1  Apartamentowiec            29   \n",
       "3  1800    Osoby prywatnej      2            1             Blok            20   \n",
       "4  2300    Osoby prywatnej      2            1  Apartamentowiec            60   \n",
       "\n",
       "      pokoje  czynsz dodatkowo  \n",
       "0          2                 1  \n",
       "1          2                 1  \n",
       "2  Kawalerka                 1  \n",
       "3          2               350  \n",
       "4          3               500  "
      ]
     },
     "execution_count": 19,
     "metadata": {},
     "output_type": "execute_result"
    }
   ],
   "source": [
    "df_waw = pd.read_excel(path_data + '\\web_scrap.xlsx')\n",
    "df_waw.head()"
   ]
  },
  {
   "cell_type": "code",
   "execution_count": 20,
   "metadata": {},
   "outputs": [
    {
     "name": "stdout",
     "output_type": "stream",
     "text": [
      "<class 'pandas.core.frame.DataFrame'>\n",
      "RangeIndex: 4391 entries, 0 to 4390\n",
      "Data columns (total 11 columns):\n",
      " #   Column            Non-Null Count  Dtype \n",
      "---  ------            --------------  ----- \n",
      " 0   link              4391 non-null   object\n",
      " 1   miasto            4391 non-null   object\n",
      " 2   dzielnica         4391 non-null   object\n",
      " 3   cena              4391 non-null   int64 \n",
      " 4   od                4391 non-null   object\n",
      " 5   poziom            4391 non-null   object\n",
      " 6   umeblowanie       4391 non-null   int64 \n",
      " 7   zabudowa          4391 non-null   object\n",
      " 8   powierzchnia      4391 non-null   int64 \n",
      " 9   pokoje            4391 non-null   object\n",
      " 10  czynsz dodatkowo  4391 non-null   int64 \n",
      "dtypes: int64(4), object(7)\n",
      "memory usage: 377.5+ KB\n"
     ]
    }
   ],
   "source": [
    "df_waw.info() "
   ]
  },
  {
   "cell_type": "markdown",
   "metadata": {},
   "source": [
    "Nie ma brakujących danych"
   ]
  },
  {
   "cell_type": "code",
   "execution_count": 21,
   "metadata": {},
   "outputs": [
    {
     "data": {
      "text/html": [
       "<div>\n",
       "<style scoped>\n",
       "    .dataframe tbody tr th:only-of-type {\n",
       "        vertical-align: middle;\n",
       "    }\n",
       "\n",
       "    .dataframe tbody tr th {\n",
       "        vertical-align: top;\n",
       "    }\n",
       "\n",
       "    .dataframe thead th {\n",
       "        text-align: right;\n",
       "    }\n",
       "</style>\n",
       "<table border=\"1\" class=\"dataframe\">\n",
       "  <thead>\n",
       "    <tr style=\"text-align: right;\">\n",
       "      <th></th>\n",
       "      <th>cena</th>\n",
       "      <th>umeblowanie</th>\n",
       "      <th>powierzchnia</th>\n",
       "      <th>czynsz dodatkowo</th>\n",
       "    </tr>\n",
       "  </thead>\n",
       "  <tbody>\n",
       "    <tr>\n",
       "      <th>count</th>\n",
       "      <td>4391.000000</td>\n",
       "      <td>4391.000000</td>\n",
       "      <td>4391.000000</td>\n",
       "      <td>4391.000000</td>\n",
       "    </tr>\n",
       "    <tr>\n",
       "      <th>mean</th>\n",
       "      <td>2161.186973</td>\n",
       "      <td>0.961512</td>\n",
       "      <td>42.184013</td>\n",
       "      <td>224.686632</td>\n",
       "    </tr>\n",
       "    <tr>\n",
       "      <th>std</th>\n",
       "      <td>5976.163752</td>\n",
       "      <td>0.192393</td>\n",
       "      <td>16.908243</td>\n",
       "      <td>242.662634</td>\n",
       "    </tr>\n",
       "    <tr>\n",
       "      <th>min</th>\n",
       "      <td>50.000000</td>\n",
       "      <td>0.000000</td>\n",
       "      <td>1.000000</td>\n",
       "      <td>1.000000</td>\n",
       "    </tr>\n",
       "    <tr>\n",
       "      <th>25%</th>\n",
       "      <td>1600.000000</td>\n",
       "      <td>1.000000</td>\n",
       "      <td>31.000000</td>\n",
       "      <td>1.000000</td>\n",
       "    </tr>\n",
       "    <tr>\n",
       "      <th>50%</th>\n",
       "      <td>2000.000000</td>\n",
       "      <td>1.000000</td>\n",
       "      <td>40.000000</td>\n",
       "      <td>150.000000</td>\n",
       "    </tr>\n",
       "    <tr>\n",
       "      <th>75%</th>\n",
       "      <td>2400.000000</td>\n",
       "      <td>1.000000</td>\n",
       "      <td>50.000000</td>\n",
       "      <td>400.000000</td>\n",
       "    </tr>\n",
       "    <tr>\n",
       "      <th>max</th>\n",
       "      <td>395000.000000</td>\n",
       "      <td>1.000000</td>\n",
       "      <td>300.000000</td>\n",
       "      <td>999.000000</td>\n",
       "    </tr>\n",
       "  </tbody>\n",
       "</table>\n",
       "</div>"
      ],
      "text/plain": [
       "                cena  umeblowanie  powierzchnia  czynsz dodatkowo\n",
       "count    4391.000000  4391.000000   4391.000000       4391.000000\n",
       "mean     2161.186973     0.961512     42.184013        224.686632\n",
       "std      5976.163752     0.192393     16.908243        242.662634\n",
       "min        50.000000     0.000000      1.000000          1.000000\n",
       "25%      1600.000000     1.000000     31.000000          1.000000\n",
       "50%      2000.000000     1.000000     40.000000        150.000000\n",
       "75%      2400.000000     1.000000     50.000000        400.000000\n",
       "max    395000.000000     1.000000    300.000000        999.000000"
      ]
     },
     "execution_count": 21,
     "metadata": {},
     "output_type": "execute_result"
    }
   ],
   "source": [
    "df_waw.describe()"
   ]
  },
  {
   "cell_type": "markdown",
   "metadata": {},
   "source": [
    "Tylko 4 kolumny są numeryczne, niektóre mają mieszaną formę."
   ]
  },
  {
   "cell_type": "code",
   "execution_count": 22,
   "metadata": {
    "scrolled": true
   },
   "outputs": [
    {
     "name": "stdout",
     "output_type": "stream",
     "text": [
      "link ['https://www.olx.pl/oferta/dwupokojowe-z-oddzielna-kuchnia-z-ochrona-24h-CID3-IDG480z.html#aebf69ee9d'\n",
      " 'https://www.olx.pl/oferta/2-pokoje-bielany-metro-marymont-apartamentowiec-CID3-IDH9Bkb.html#72d7a7dc4d;promoted'\n",
      " 'https://www.olx.pl/oferta/kawalerka-browary-warszawskie-CID3-IDFOpbo.html#0d85410fb0;promoted'\n",
      " ...\n",
      " 'https://www.olx.pl/oferta/stanow-zjednoczonych-praga-pld-kawalerka-jezioro-goclawskie-0-prowizj-CID3-IDGhorX.html#5a80808650'\n",
      " 'https://www.olx.pl/oferta/2-pokojowe-przestronne-zoliborz-CID3-IDHiI69.html#839a743bc2'\n",
      " 'https://www.olx.pl/oferta/czestochowska-25-27-ochota-kawalerka-0-prowizji-CID3-IDGUA7r.html#5a80808650'] \n",
      "\n",
      "miasto ['Warszawa,'] \n",
      "\n",
      "dzielnica ['Targówek' 'Bielany' 'Śródmieście' 'Mokotów' 'Wawer' 'Wola' 'Bemowo'\n",
      " 'Białołęka' 'Ursynów' 'Ursus' 'Ochota' 'Praga-Południe' 'Żoliborz'\n",
      " 'Praga-Północ' 'Wilanów' 'Rembertów' 'Wesoła' 'Włochy'] \n",
      "\n",
      "cena [  2300   3000   2200   1800   2000   2100   2800   1900   2700   2350\n",
      "   1650   1950   2500   4300   1200   2450   1100   1600   3300   2650\n",
      "   2699   2050   2400   1700   1400   2550   1850   1999   1500    700\n",
      "   4400   3500   2150   3600   3050    900   1690   2480   2900   2385\n",
      "   1450   3200   2600   1750   1959   1499   2950   1550   1300   1730\n",
      "   1790   1699   2990   3900   1597   1185   4000    120   2230   5400\n",
      "   1349   6000   4100   1290    750   1150   2490   1199   2250   1490\n",
      "   3100   1520   1260   1890   4900    600   1419   3400   2750   1899\n",
      "   2660    890   1250   2590    400   1390   2120   1350   1485   2330\n",
      "   1980   3800   4950   1000    109   2199   3700   3160   1495   3220\n",
      "   5800   1480   3150   2799   5000   2499   2164    150   4800   1990\n",
      "   1299   4500   1030    149   1880   4200    990   1280    800   1590\n",
      "   3950   1870   1240   1595   2290   2099   2850   2925   1705   2390\n",
      "   9000   4600 395000   3850   1725   2185   5500   7000   7900   2355\n",
      "    130   1095    950   1745   3330   1910   1320    100   2430   1360\n",
      "   1066   2630   4550    560   1799    850   2599   1045   1680   2360\n",
      "   2180   1140   3650   1380   1756    350   2170   2410   1549   1050\n",
      "   1760   2790   1660   1449   1599   2280   2080   2420    123   6500\n",
      "   2999   1470   2380   1190     50   1610    633   3490   1775   3750\n",
      "   1545   2670    500   1330   3070   8500   5900   1245   2190   1195\n",
      "   1985   1630    725   1749   1649   1440   3350   1849   2149   1540\n",
      "   2010   1399    780   7200   3285   3599   4700   3480   3499   1295\n",
      "   3230   6850   6800  10000   1375   1230   1970   1865   1430   4290\n",
      "   5300   2579] \n",
      "\n",
      "od ['Biuro / Deweloper' 'Osoby prywatnej'] \n",
      "\n",
      "poziom ['2' '3' '6' '4' 'Parter' '1' '5' '7' '9' 'Powyżej 10' '10' '8' 'Suterena'\n",
      " 'Poddasze' 6 'Tak'] \n",
      "\n",
      "umeblowanie [1 0] \n",
      "\n",
      "zabudowa ['Apartamentowiec' 'Blok' 'Kamienica' 'Pozostałe' 'Dom' 'Szeregowiec'\n",
      " 'Loft'] \n",
      "\n",
      "powierzchnia [ 60  56  29  20  28  43  80  38  39  53  45  50  25  64 120  18  34  47\n",
      "  23  57  55  52  37  30  40  44  42  31  76  24  22  65  51  32  58  21\n",
      "  33  36  27  19  35  48  46  67  71  49  82  70  26  72  54  74  89  15\n",
      "  62  94 130  16  14  41  63  61  59  17 107  75  13 105  79  10  68  81\n",
      "  66  90 137  69 100  93 150  83  98  73  77  95  85  84  87 110  78   1\n",
      "   9   7  96  88  91  12   2   6   5 143  11   8 135 134  97 300  99 108] \n",
      "\n",
      "pokoje ['2' 'Kawalerka' '3' '4'] \n",
      "\n",
      "czynsz dodatkowo [  1 350 500 230 699 200 150 600 580 100  50   3 550 400 650 380 300 999\n",
      " 450 340  80 193 335 250 220 530 560 750 490 615 674 499 660 480 700 770\n",
      " 540 425   2 730 570 430 295  10 520 571 680  60 290 120 396 990 535 800\n",
      " 470 420 320  15 269 280 315 370 426 630 515 360 640 310 170 850 508 436\n",
      " 510  90 242 670 620 760 491 465 240 725 123   5 455 180 399 118  70 440\n",
      " 330 475 586 665 501  40 345 390 875 225 375 950 715 270 590 780 597 595\n",
      " 965 265 496 395 790 622 260 385 185 460 411 365 431 155 334 926 497 377\n",
      " 517 352 130 435 601 235 900 710 405 160 175 312 481 820 410 574 210 394\n",
      " 386 485 633 577 740 720 140  19 302 890 860 690 387   4 526 392 190 562\n",
      " 165 358 237 536 545 321 355 671 538  12  30 564 437 911] \n",
      "\n"
     ]
    }
   ],
   "source": [
    "for i in df_waw.columns:\n",
    "    print(i, df_waw[i].unique(), '\\n') # unikalne wartości w każdej kolumnie"
   ]
  },
  {
   "cell_type": "markdown",
   "metadata": {},
   "source": [
    "W kolumnie \"pokoje\" pojawia się string \"Kawalerka\". Należy zmienić ich wartość na 1. Następnie przekonwertować wszytkie stringi w kolumnie na liczby.\n",
    "\n",
    "W kolumnie \"poziom\", pojawiają się teksty \"Parter\", \"Powyżej 10\", \"Suterena\". O ile parter można przypisać do zera, to pozostałe wartości nie da sie przyrównać do liczby tak aby zachowały swój charakter. Dlatego pozostawie je w tej chwili bez zmian. Natomiast wartości \"Tak\" i \"Nie\" w tej kolumnie wdają się być błędne, dlatego je usunę.  \n",
    "\n",
    "Usuwam duplikaty a nastęnie wyrzucam także kolumnę \"link\" i \"miasto\". Robię to w tej kolejności, ponieważ link zapewnia unikalność danych."
   ]
  },
  {
   "cell_type": "code",
   "execution_count": 23,
   "metadata": {},
   "outputs": [],
   "source": [
    "def drop_value(df, column, value):\n",
    "    ''' funkcja do usuwania wybranych wartości '''\n",
    "    index = df[df[column] == value].index\n",
    "    df.drop(index=index, inplace=True)\n",
    "    df.reset_index(drop=True, inplace=True)"
   ]
  },
  {
   "cell_type": "code",
   "execution_count": 24,
   "metadata": {},
   "outputs": [],
   "source": [
    "index = df_waw[df_waw['pokoje'] == 'Kawalerka'].index\n",
    "for i in index:\n",
    "    df_waw.loc[i, 'pokoje'] = 1   \n",
    "df_waw['pokoje'] = df_waw['pokoje'].astype(int)\n",
    "    \n",
    "drop_value(df_waw, 'poziom', 'Tak')\n",
    "drop_value(df_waw, 'poziom', 'Nie')\n",
    "\n",
    "df_waw.drop_duplicates(inplace=True)\n",
    "df_waw.drop(['link', 'miasto'], axis=1, inplace=True)"
   ]
  },
  {
   "cell_type": "code",
   "execution_count": 25,
   "metadata": {},
   "outputs": [
    {
     "name": "stdout",
     "output_type": "stream",
     "text": [
      "<class 'pandas.core.frame.DataFrame'>\n",
      "Int64Index: 4305 entries, 0 to 4350\n",
      "Data columns (total 9 columns):\n",
      " #   Column            Non-Null Count  Dtype \n",
      "---  ------            --------------  ----- \n",
      " 0   dzielnica         4305 non-null   object\n",
      " 1   cena              4305 non-null   int64 \n",
      " 2   od                4305 non-null   object\n",
      " 3   poziom            4305 non-null   object\n",
      " 4   umeblowanie       4305 non-null   int64 \n",
      " 5   zabudowa          4305 non-null   object\n",
      " 6   powierzchnia      4305 non-null   int64 \n",
      " 7   pokoje            4305 non-null   int32 \n",
      " 8   czynsz dodatkowo  4305 non-null   int64 \n",
      "dtypes: int32(1), int64(4), object(4)\n",
      "memory usage: 319.5+ KB\n"
     ]
    }
   ],
   "source": [
    "df_waw.info()"
   ]
  },
  {
   "cell_type": "code",
   "execution_count": 26,
   "metadata": {},
   "outputs": [
    {
     "data": {
      "text/html": [
       "<div>\n",
       "<style scoped>\n",
       "    .dataframe tbody tr th:only-of-type {\n",
       "        vertical-align: middle;\n",
       "    }\n",
       "\n",
       "    .dataframe tbody tr th {\n",
       "        vertical-align: top;\n",
       "    }\n",
       "\n",
       "    .dataframe thead th {\n",
       "        text-align: right;\n",
       "    }\n",
       "</style>\n",
       "<table border=\"1\" class=\"dataframe\">\n",
       "  <thead>\n",
       "    <tr style=\"text-align: right;\">\n",
       "      <th></th>\n",
       "      <th>dzielnica</th>\n",
       "      <th>cena</th>\n",
       "      <th>od</th>\n",
       "      <th>poziom</th>\n",
       "      <th>umeblowanie</th>\n",
       "      <th>zabudowa</th>\n",
       "      <th>powierzchnia</th>\n",
       "      <th>pokoje</th>\n",
       "      <th>czynsz dodatkowo</th>\n",
       "    </tr>\n",
       "  </thead>\n",
       "  <tbody>\n",
       "    <tr>\n",
       "      <th>0</th>\n",
       "      <td>Targówek</td>\n",
       "      <td>2300</td>\n",
       "      <td>Biuro / Deweloper</td>\n",
       "      <td>2</td>\n",
       "      <td>1</td>\n",
       "      <td>Apartamentowiec</td>\n",
       "      <td>60</td>\n",
       "      <td>2</td>\n",
       "      <td>1</td>\n",
       "    </tr>\n",
       "    <tr>\n",
       "      <th>1</th>\n",
       "      <td>Bielany</td>\n",
       "      <td>3000</td>\n",
       "      <td>Osoby prywatnej</td>\n",
       "      <td>3</td>\n",
       "      <td>1</td>\n",
       "      <td>Apartamentowiec</td>\n",
       "      <td>56</td>\n",
       "      <td>2</td>\n",
       "      <td>1</td>\n",
       "    </tr>\n",
       "    <tr>\n",
       "      <th>2</th>\n",
       "      <td>Śródmieście</td>\n",
       "      <td>2200</td>\n",
       "      <td>Osoby prywatnej</td>\n",
       "      <td>2</td>\n",
       "      <td>1</td>\n",
       "      <td>Apartamentowiec</td>\n",
       "      <td>29</td>\n",
       "      <td>1</td>\n",
       "      <td>1</td>\n",
       "    </tr>\n",
       "    <tr>\n",
       "      <th>3</th>\n",
       "      <td>Mokotów</td>\n",
       "      <td>1800</td>\n",
       "      <td>Osoby prywatnej</td>\n",
       "      <td>2</td>\n",
       "      <td>1</td>\n",
       "      <td>Blok</td>\n",
       "      <td>20</td>\n",
       "      <td>2</td>\n",
       "      <td>350</td>\n",
       "    </tr>\n",
       "    <tr>\n",
       "      <th>4</th>\n",
       "      <td>Wawer</td>\n",
       "      <td>2300</td>\n",
       "      <td>Osoby prywatnej</td>\n",
       "      <td>2</td>\n",
       "      <td>1</td>\n",
       "      <td>Apartamentowiec</td>\n",
       "      <td>60</td>\n",
       "      <td>3</td>\n",
       "      <td>500</td>\n",
       "    </tr>\n",
       "  </tbody>\n",
       "</table>\n",
       "</div>"
      ],
      "text/plain": [
       "     dzielnica  cena                 od poziom  umeblowanie         zabudowa  \\\n",
       "0     Targówek  2300  Biuro / Deweloper      2            1  Apartamentowiec   \n",
       "1      Bielany  3000    Osoby prywatnej      3            1  Apartamentowiec   \n",
       "2  Śródmieście  2200    Osoby prywatnej      2            1  Apartamentowiec   \n",
       "3      Mokotów  1800    Osoby prywatnej      2            1             Blok   \n",
       "4        Wawer  2300    Osoby prywatnej      2            1  Apartamentowiec   \n",
       "\n",
       "   powierzchnia  pokoje  czynsz dodatkowo  \n",
       "0            60       2                 1  \n",
       "1            56       2                 1  \n",
       "2            29       1                 1  \n",
       "3            20       2               350  \n",
       "4            60       3               500  "
      ]
     },
     "execution_count": 26,
     "metadata": {},
     "output_type": "execute_result"
    }
   ],
   "source": [
    "df_waw.head()"
   ]
  },
  {
   "cell_type": "markdown",
   "metadata": {},
   "source": [
    "Całkowity koszt wynajmu mieszkania jest rozbity na kolumny \"cena\" i \"czynsz dodatkowo\". Należy je połączyć, a następnie usunąć.  \n",
    "Dodatkowo, w ramach analizy stworzę kolumnę \"cena za pokój\"."
   ]
  },
  {
   "cell_type": "code",
   "execution_count": 28,
   "metadata": {},
   "outputs": [],
   "source": [
    "df_waw['cena całkowita'] = df_waw['cena'] + df_waw['czynsz dodatkowo']\n",
    "df_waw.drop('cena', axis=1, inplace=True)\n",
    "df_waw.drop('czynsz dodatkowo', axis=1, inplace=True)\n",
    "\n",
    "df_waw['cena za pokoj'] = df_waw['cena całkowita']/df_waw['pokoje']\n",
    "df_waw.reset_index(drop=True, inplace=True)"
   ]
  },
  {
   "cell_type": "markdown",
   "metadata": {},
   "source": [
    "Funkcja pairplot pozwala wstępnie zapoznać się z wszystkimi numerycznymi danymi."
   ]
  },
  {
   "cell_type": "code",
   "execution_count": 29,
   "metadata": {},
   "outputs": [
    {
     "data": {
      "image/png": "[encoded data removed]",
      "text/plain": [
       "<Figure size 900x900 with 30 Axes>"
      ]
     },
     "metadata": {},
     "output_type": "display_data"
    }
   ],
   "source": [
    "sns.pairplot(df_waw)\n",
    "plt.show()"
   ]
  },
  {
   "cell_type": "markdown",
   "metadata": {},
   "source": [
    "Od razu zauważyć można, że w kolumnie \"cena za pokoj\", pojawiają się dane, które znacznie różnią się od średniej, przez co wszystkie wykresy stają się zniekształcone. Wygląda na to, że ktoś wstawił ogłoszenie wynajmu mieszkania za około 400 000 zł. Prawdopodobnie się pomylił, bo za tą cenę chce raczej mieszkanie sprzedać."
   ]
  },
  {
   "cell_type": "code",
   "execution_count": 30,
   "metadata": {},
   "outputs": [
    {
     "data": {
      "image/png": "[encoded data removed]",
      "text/plain": [
       "<Figure size 1080x432 with 1 Axes>"
      ]
     },
     "metadata": {},
     "output_type": "display_data"
    }
   ],
   "source": [
    "plt.figure(figsize=(15,6))\n",
    "plt.xlabel('cena całkowita')\n",
    "plt.ylabel('powierzchnia')\n",
    "plt.scatter(df_waw['cena całkowita'], df_waw['powierzchnia'])\n",
    "plt.show()"
   ]
  },
  {
   "cell_type": "markdown",
   "metadata": {},
   "source": [
    "W 2 kluczowych kolumnach: \"powierzchnia\" i \"cena całkowita\" pojawiają się wartości skrajne, które będą zaburzać modelu. Ich wartości odbiegają od średniej na tyle dużo, że muszę je usunąć."
   ]
  },
  {
   "cell_type": "code",
   "execution_count": 31,
   "metadata": {},
   "outputs": [],
   "source": [
    "drop_value(df_waw, 'cena całkowita', df_waw['cena całkowita'].max())\n",
    "drop_value(df_waw, 'powierzchnia', df_waw['powierzchnia'].max())"
   ]
  },
  {
   "cell_type": "markdown",
   "metadata": {},
   "source": [
    "Tak obrobione dane zapisuję za pomocą *pickle*."
   ]
  },
  {
   "cell_type": "code",
   "execution_count": 34,
   "metadata": {},
   "outputs": [],
   "source": [
    "df_waw.to_pickle(path_pickle + '\\df_waw_analyse.pickle')"
   ]
  }
 ],
 "metadata": {
  "kernelspec": {
   "display_name": "Python 3",
   "language": "python",
   "name": "python3"
  },
  "language_info": {
   "codemirror_mode": {
    "name": "ipython",
    "version": 3
   },
   "file_extension": ".py",
   "mimetype": "text/x-python",
   "name": "python",
   "nbconvert_exporter": "python",
   "pygments_lexer": "ipython3",
   "version": "3.8.5"
  }
 },
 "nbformat": 4,
 "nbformat_minor": 4
}
