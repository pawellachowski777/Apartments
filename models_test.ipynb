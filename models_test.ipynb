{
 "cells": [
  {
   "cell_type": "code",
   "execution_count": 37,
   "metadata": {},
   "outputs": [],
   "source": [
    "import pandas as pd\n",
    "\n",
    "from sklearn.neighbors import KNeighborsRegressor\n",
    "from sklearn.ensemble import RandomForestRegressor\n",
    "from sklearn.linear_model import LinearRegression\n",
    "\n",
    "from sklearn.model_selection import train_test_split, cross_val_score\n",
    "from sklearn.preprocessing import StandardScaler\n",
    "\n",
    "import statsmodels.api as sm"
   ]
  },
  {
   "cell_type": "code",
   "execution_count": 41,
   "metadata": {},
   "outputs": [
    {
     "data": {
      "text/html": [
       "<div>\n",
       "<style scoped>\n",
       "    .dataframe tbody tr th:only-of-type {\n",
       "        vertical-align: middle;\n",
       "    }\n",
       "\n",
       "    .dataframe tbody tr th {\n",
       "        vertical-align: top;\n",
       "    }\n",
       "\n",
       "    .dataframe thead th {\n",
       "        text-align: right;\n",
       "    }\n",
       "</style>\n",
       "<table border=\"1\" class=\"dataframe\">\n",
       "  <thead>\n",
       "    <tr style=\"text-align: right;\">\n",
       "      <th></th>\n",
       "      <th>dzielnica</th>\n",
       "      <th>od</th>\n",
       "      <th>poziom</th>\n",
       "      <th>umeblowanie</th>\n",
       "      <th>zabudowa</th>\n",
       "      <th>powierzchnia</th>\n",
       "      <th>cena całkowita</th>\n",
       "      <th>powierzchnia na pokoj</th>\n",
       "    </tr>\n",
       "  </thead>\n",
       "  <tbody>\n",
       "    <tr>\n",
       "      <th>0</th>\n",
       "      <td>Targówek</td>\n",
       "      <td>Biuro / Deweloper</td>\n",
       "      <td>2</td>\n",
       "      <td>1</td>\n",
       "      <td>Apartamentowiec</td>\n",
       "      <td>60</td>\n",
       "      <td>2301</td>\n",
       "      <td>30.0</td>\n",
       "    </tr>\n",
       "    <tr>\n",
       "      <th>1</th>\n",
       "      <td>Bielany</td>\n",
       "      <td>Osoby prywatnej</td>\n",
       "      <td>3</td>\n",
       "      <td>1</td>\n",
       "      <td>Apartamentowiec</td>\n",
       "      <td>56</td>\n",
       "      <td>3001</td>\n",
       "      <td>28.0</td>\n",
       "    </tr>\n",
       "    <tr>\n",
       "      <th>2</th>\n",
       "      <td>Śródmieście</td>\n",
       "      <td>Osoby prywatnej</td>\n",
       "      <td>2</td>\n",
       "      <td>1</td>\n",
       "      <td>Apartamentowiec</td>\n",
       "      <td>29</td>\n",
       "      <td>2201</td>\n",
       "      <td>29.0</td>\n",
       "    </tr>\n",
       "    <tr>\n",
       "      <th>3</th>\n",
       "      <td>Mokotów</td>\n",
       "      <td>Osoby prywatnej</td>\n",
       "      <td>2</td>\n",
       "      <td>1</td>\n",
       "      <td>Blok</td>\n",
       "      <td>20</td>\n",
       "      <td>2150</td>\n",
       "      <td>10.0</td>\n",
       "    </tr>\n",
       "    <tr>\n",
       "      <th>4</th>\n",
       "      <td>Wawer</td>\n",
       "      <td>Osoby prywatnej</td>\n",
       "      <td>2</td>\n",
       "      <td>1</td>\n",
       "      <td>Apartamentowiec</td>\n",
       "      <td>60</td>\n",
       "      <td>2800</td>\n",
       "      <td>20.0</td>\n",
       "    </tr>\n",
       "  </tbody>\n",
       "</table>\n",
       "</div>"
      ],
      "text/plain": [
       "     dzielnica                 od poziom  umeblowanie         zabudowa  \\\n",
       "0     Targówek  Biuro / Deweloper      2            1  Apartamentowiec   \n",
       "1      Bielany    Osoby prywatnej      3            1  Apartamentowiec   \n",
       "2  Śródmieście    Osoby prywatnej      2            1  Apartamentowiec   \n",
       "3      Mokotów    Osoby prywatnej      2            1             Blok   \n",
       "4        Wawer    Osoby prywatnej      2            1  Apartamentowiec   \n",
       "\n",
       "   powierzchnia  cena całkowita  powierzchnia na pokoj  \n",
       "0            60            2301                   30.0  \n",
       "1            56            3001                   28.0  \n",
       "2            29            2201                   29.0  \n",
       "3            20            2150                   10.0  \n",
       "4            60            2800                   20.0  "
      ]
     },
     "execution_count": 41,
     "metadata": {},
     "output_type": "execute_result"
    }
   ],
   "source": [
    "df_waw = pd.read_pickle('.\\pickle\\df_waw_analyse_2.pickle')\n",
    "df_waw.head()"
   ]
  },
  {
   "cell_type": "markdown",
   "metadata": {},
   "source": [
    "Najpierw trzeba pozbyć się wsystkich tekstowych wartości z bazy, aby model regresji mógł je uwzględnić."
   ]
  },
  {
   "cell_type": "markdown",
   "metadata": {},
   "source": [
    "W kolumnach: \"dzielnica\", \"od\", \"poziom\", \"zabudowa\", trzeba utworzyć kolumny dummies. Dodatkowo muszę wyrzucić którąś z nowo utworzonych kolumn. W przeciwnym przypadku, model nie będzie w stanie zinterpretować czy zmiana jest spowodowana wartośćią 1 w tej kolumnie czy 0 w pozostałych.   \n",
    "Przykład: _Apartamentowiec = 1 - Blok - Dom - Kamienica - Szeregowiec_. Kolumna Apartamentowiec jest idealnie zdefiniowana przez pozostałe 4 kolumny. Prowadzi to do wielu problemów w regresji (nieinterpretowalność coeff, współliniowość zmiennych).  \n",
    "W kolumnach dummies odrzucam: **Mokotów** dla \"dzielnicy\", **osoby przywatnej** dla \"od\", **powyżej 10** dla \"poziom\", **apartamentowiec** dla \"zabudowa\"."
   ]
  },
  {
   "cell_type": "code",
   "execution_count": 62,
   "metadata": {},
   "outputs": [],
   "source": [
    "def data_preparation(X_drop):\n",
    "    \n",
    "    df_waw = pd.read_pickle('.\\pickle\\df_waw_analyse_2.pickle')\n",
    "    dzielnica = pd.get_dummies(data=df_waw['dzielnica'])\n",
    "    od = pd.get_dummies(data=df_waw['od'])\n",
    "    poziom = pd.get_dummies(data=df_waw['poziom'])\n",
    "    zabudowa = pd.get_dummies(data=df_waw['zabudowa'])\n",
    "\n",
    "    df_waw = pd.concat([df_waw, dzielnica, od, poziom, zabudowa], axis=1)\n",
    "\n",
    "    y = df_waw['cena całkowita']\n",
    "    X = df_waw.drop(X_drop, axis=1)\n",
    "    return [X, y]"
   ]
  },
  {
   "cell_type": "code",
   "execution_count": 86,
   "metadata": {},
   "outputs": [],
   "source": [
    "X, y= data_preparation(['cena całkowita', 'dzielnica', 'od', 'poziom', 'zabudowa','Mokotów',\n",
    "                        'Osoby prywatnej', 'Powyżej 10', 'Apartamentowiec'])"
   ]
  },
  {
   "cell_type": "code",
   "execution_count": 87,
   "metadata": {
    "scrolled": false
   },
   "outputs": [],
   "source": [
    "def ols_regresion():\n",
    "    \n",
    "    X_train, X_test, y_train, y_test = train_test_split(X, y, test_size=0.33, random_state=60)\n",
    "    \n",
    "    X_const = sm.add_constant(X_train)\n",
    "    ols = sm.OLS(y_train, X_const).fit()\n",
    "    print(ols.summary())"
   ]
  },
  {
   "cell_type": "code",
   "execution_count": 88,
   "metadata": {
    "scrolled": false
   },
   "outputs": [
    {
     "name": "stdout",
     "output_type": "stream",
     "text": [
      "                            OLS Regression Results                            \n",
      "==============================================================================\n",
      "Dep. Variable:         cena całkowita   R-squared:                       0.600\n",
      "Model:                            OLS   Adj. R-squared:                  0.595\n",
      "Method:                 Least Squares   F-statistic:                     116.0\n",
      "Date:                Sat, 17 Apr 2021   Prob (F-statistic):               0.00\n",
      "Time:                        18:37:46   Log-Likelihood:                -21279.\n",
      "No. Observations:                2818   AIC:                         4.263e+04\n",
      "Df Residuals:                    2781   BIC:                         4.285e+04\n",
      "Df Model:                          36                                         \n",
      "Covariance Type:            nonrobust                                         \n",
      "=========================================================================================\n",
      "                            coef    std err          t      P>|t|      [0.025      0.975]\n",
      "-----------------------------------------------------------------------------------------\n",
      "const                  1795.2461     87.444     20.530      0.000    1623.785    1966.708\n",
      "umeblowanie              13.8270     51.564      0.268      0.789     -87.281     114.935\n",
      "powierzchnia             30.9440      0.561     55.141      0.000      29.844      32.044\n",
      "powierzchnia na pokoj   -10.7556      1.451     -7.415      0.000     -13.600      -7.911\n",
      "Bemowo                 -249.8009     43.799     -5.703      0.000    -335.682    -163.919\n",
      "Białołęka              -293.9554     42.925     -6.848      0.000    -378.124    -209.786\n",
      "Bielany                -238.3762     45.196     -5.274      0.000    -326.996    -149.756\n",
      "Ochota                 -153.8456     43.223     -3.559      0.000    -238.599     -69.093\n",
      "Praga-Południe         -150.2113     36.388     -4.128      0.000    -221.562     -78.860\n",
      "Praga-Północ           -134.0374     55.094     -2.433      0.015    -242.066     -26.008\n",
      "Rembertów              -216.9366    114.423     -1.896      0.058    -441.300       7.427\n",
      "Targówek               -272.1517     53.950     -5.044      0.000    -377.938    -166.365\n",
      "Ursus                  -176.2821     59.622     -2.957      0.003    -293.190     -59.374\n",
      "Ursynów                -129.7834     43.637     -2.974      0.003    -215.347     -44.220\n",
      "Wawer                  -352.5478     79.541     -4.432      0.000    -508.513    -196.583\n",
      "Wesoła                 -398.4213    105.847     -3.764      0.000    -605.969    -190.874\n",
      "Wilanów                  83.3536     68.825      1.211      0.226     -51.600     218.308\n",
      "Wola                      4.7831     32.793      0.146      0.884     -59.517      69.083\n",
      "Włochy                 -240.0153     61.445     -3.906      0.000    -360.499    -119.532\n",
      "Śródmieście              92.7293     31.879      2.909      0.004      30.221     155.238\n",
      "Żoliborz                -54.5410     53.964     -1.011      0.312    -160.355      51.273\n",
      "Biuro / Deweloper      -111.3025     22.107     -5.035      0.000    -154.650     -67.955\n",
      "1                      -271.2498     55.312     -4.904      0.000    -379.706    -162.794\n",
      "10                     -285.4254     75.643     -3.773      0.000    -433.748    -137.103\n",
      "2                      -234.4785     55.530     -4.223      0.000    -343.364    -125.593\n",
      "3                      -231.8486     56.019     -4.139      0.000    -341.691    -122.006\n",
      "4                      -165.9612     57.418     -2.890      0.004    -278.547     -53.375\n",
      "5                      -110.3699     61.022     -1.809      0.071    -230.023       9.283\n",
      "6                      -111.1493     62.745     -1.771      0.077    -234.181      11.883\n",
      "7                      -118.2558     68.970     -1.715      0.087    -253.493      16.981\n",
      "8                      -227.4257     69.843     -3.256      0.001    -364.376     -90.476\n",
      "9                      -227.0221     84.980     -2.671      0.008    -393.651     -60.393\n",
      "Parter                 -172.2628     57.490     -2.996      0.003    -284.990     -59.536\n",
      "Blok                   -322.2086     23.118    -13.938      0.000    -367.538    -276.879\n",
      "Dom                    -715.0940     66.276    -10.790      0.000    -845.049    -585.139\n",
      "Kamienica              -174.4048     31.211     -5.588      0.000    -235.603    -113.206\n",
      "Szeregowiec            -616.8604    114.432     -5.391      0.000    -841.242    -392.479\n",
      "==============================================================================\n",
      "Omnibus:                     1040.287   Durbin-Watson:                   1.977\n",
      "Prob(Omnibus):                  0.000   Jarque-Bera (JB):            26269.950\n",
      "Skew:                           1.178   Prob(JB):                         0.00\n",
      "Kurtosis:                      17.771   Cond. No.                     1.06e+03\n",
      "==============================================================================\n",
      "\n",
      "Notes:\n",
      "[1] Standard Errors assume that the covariance matrix of the errors is correctly specified.\n",
      "[2] The condition number is large, 1.06e+03. This might indicate that there are\n",
      "strong multicollinearity or other numerical problems.\n"
     ]
    }
   ],
   "source": [
    "ols_regresion()"
   ]
  },
  {
   "cell_type": "markdown",
   "metadata": {},
   "source": [
    "Do usunięcia \"powierzchnia na pokoj\" (wprowadza multicollinearity), umeblowanie (wysokie p_value)"
   ]
  },
  {
   "cell_type": "code",
   "execution_count": 89,
   "metadata": {},
   "outputs": [
    {
     "name": "stdout",
     "output_type": "stream",
     "text": [
      "                            OLS Regression Results                            \n",
      "==============================================================================\n",
      "Dep. Variable:         cena całkowita   R-squared:                       0.592\n",
      "Model:                            OLS   Adj. R-squared:                  0.587\n",
      "Method:                 Least Squares   F-statistic:                     119.0\n",
      "Date:                Sat, 17 Apr 2021   Prob (F-statistic):               0.00\n",
      "Time:                        18:37:50   Log-Likelihood:                -21306.\n",
      "No. Observations:                2818   AIC:                         4.268e+04\n",
      "Df Residuals:                    2783   BIC:                         4.289e+04\n",
      "Df Model:                          34                                         \n",
      "Covariance Type:            nonrobust                                         \n",
      "=====================================================================================\n",
      "                        coef    std err          t      P>|t|      [0.025      0.975]\n",
      "-------------------------------------------------------------------------------------\n",
      "const              1558.5381     62.621     24.888      0.000    1435.749    1681.327\n",
      "powierzchnia         30.3562      0.553     54.874      0.000      29.271      31.441\n",
      "Bemowo             -246.8460     44.134     -5.593      0.000    -333.385    -160.307\n",
      "Białołęka          -295.5741     43.290     -6.828      0.000    -380.458    -210.690\n",
      "Bielany            -230.1697     45.612     -5.046      0.000    -319.606    -140.734\n",
      "Ochota             -165.3903     43.583     -3.795      0.000    -250.848     -79.933\n",
      "Praga-Południe     -146.8747     36.667     -4.006      0.000    -218.772     -74.977\n",
      "Praga-Północ       -137.1275     55.610     -2.466      0.014    -246.168     -28.087\n",
      "Rembertów          -239.7077    115.397     -2.077      0.038    -465.979     -13.436\n",
      "Targówek           -286.8486     54.400     -5.273      0.000    -393.517    -180.180\n",
      "Ursus              -191.2884     60.148     -3.180      0.001    -309.228     -73.349\n",
      "Ursynów            -154.6406     43.847     -3.527      0.000    -240.617     -68.664\n",
      "Wawer              -352.3166     80.286     -4.388      0.000    -509.743    -194.890\n",
      "Wesoła             -438.1261    106.668     -4.107      0.000    -647.282    -228.970\n",
      "Wilanów              67.2453     69.438      0.968      0.333     -68.910     203.400\n",
      "Wola                  3.3269     33.096      0.101      0.920     -61.567      68.221\n",
      "Włochy             -259.5360     61.960     -4.189      0.000    -381.028    -138.044\n",
      "Śródmieście          78.1539     32.097      2.435      0.015      15.217     141.091\n",
      "Żoliborz            -56.5811     54.473     -1.039      0.299    -163.393      50.231\n",
      "Biuro / Deweloper  -108.3955     22.306     -4.859      0.000    -152.134     -64.657\n",
      "1                  -269.9330     55.791     -4.838      0.000    -379.329    -160.537\n",
      "10                 -291.6827     76.342     -3.821      0.000    -441.375    -141.991\n",
      "2                  -216.7215     55.952     -3.873      0.000    -326.433    -107.010\n",
      "3                  -215.7399     56.415     -3.824      0.000    -326.359    -105.120\n",
      "4                  -151.8753     57.873     -2.624      0.009    -265.354     -38.397\n",
      "5                  -108.0054     61.500     -1.756      0.079    -228.596      12.585\n",
      "6                   -95.5706     63.252     -1.511      0.131    -219.596      28.455\n",
      "7                  -109.1950     69.552     -1.570      0.117    -245.574      27.184\n",
      "8                  -200.5772     70.390     -2.850      0.004    -338.599     -62.555\n",
      "9                  -206.4761     85.641     -2.411      0.016    -374.403     -38.549\n",
      "Parter             -165.0800     58.016     -2.845      0.004    -278.840     -51.320\n",
      "Blok               -301.2265     23.157    -13.008      0.000    -346.634    -255.819\n",
      "Dom                -707.8833     66.865    -10.587      0.000    -838.994    -576.773\n",
      "Kamienica          -167.4898     31.474     -5.322      0.000    -229.204    -105.776\n",
      "Szeregowiec        -593.4496    115.379     -5.143      0.000    -819.687    -367.212\n",
      "==============================================================================\n",
      "Omnibus:                      993.245   Durbin-Watson:                   1.972\n",
      "Prob(Omnibus):                  0.000   Jarque-Bera (JB):            23497.034\n",
      "Skew:                           1.118   Prob(JB):                         0.00\n",
      "Kurtosis:                      16.968   Cond. No.                         939.\n",
      "==============================================================================\n",
      "\n",
      "Notes:\n",
      "[1] Standard Errors assume that the covariance matrix of the errors is correctly specified.\n"
     ]
    }
   ],
   "source": [
    "X, y= data_preparation(['cena całkowita', 'dzielnica', 'od', 'poziom', 'zabudowa', 'Mokotów', 'umeblowanie',\n",
    "                        'powierzchnia na pokoj', 'Osoby prywatnej', 'Powyżej 10', 'Apartamentowiec'])\n",
    "ols_regresion()"
   ]
  },
  {
   "cell_type": "code",
   "execution_count": 93,
   "metadata": {},
   "outputs": [
    {
     "name": "stdout",
     "output_type": "stream",
     "text": [
      "                            OLS Regression Results                            \n",
      "==============================================================================\n",
      "Dep. Variable:         cena całkowita   R-squared:                       0.592\n",
      "Model:                            OLS   Adj. R-squared:                  0.587\n",
      "Method:                 Least Squares   F-statistic:                     119.0\n",
      "Date:                Sat, 17 Apr 2021   Prob (F-statistic):               0.00\n",
      "Time:                        19:22:56   Log-Likelihood:                -21306.\n",
      "No. Observations:                2818   AIC:                         4.268e+04\n",
      "Df Residuals:                    2783   BIC:                         4.289e+04\n",
      "Df Model:                          34                                         \n",
      "Covariance Type:            nonrobust                                         \n",
      "==============================================================================\n",
      "                 coef    std err          t      P>|t|      [0.025      0.975]\n",
      "------------------------------------------------------------------------------\n",
      "const       2310.3245      8.837    261.447      0.000    2292.997    2327.652\n",
      "x1           491.4765      8.956     54.874      0.000     473.915     509.038\n",
      "x2           -55.7709      9.971     -5.593      0.000     -75.323     -36.219\n",
      "x3           -68.4193     10.021     -6.828      0.000     -88.068     -48.770\n",
      "x4           -52.2187     10.348     -5.046      0.000     -72.509     -31.928\n",
      "x5           -38.4346     10.128     -3.795      0.000     -58.294     -18.575\n",
      "x6           -41.8003     10.435     -4.006      0.000     -62.262     -21.338\n",
      "x7           -23.1928      9.405     -2.466      0.014     -41.635      -4.750\n",
      "x8           -19.1417      9.215     -2.077      0.038     -37.210      -1.073\n",
      "x9           -54.2030     10.279     -5.273      0.000     -74.359     -34.047\n",
      "x10          -30.3889      9.555     -3.180      0.001     -49.125     -11.653\n",
      "x11          -35.6550     10.110     -3.527      0.000     -55.478     -15.832\n",
      "x12          -42.4540      9.674     -4.388      0.000     -61.424     -23.484\n",
      "x13          -34.3363      8.360     -4.107      0.000     -50.728     -17.945\n",
      "x14            9.1844      9.484      0.968      0.333      -9.412      27.781\n",
      "x15            1.1004     10.946      0.101      0.920     -20.364      22.564\n",
      "x16          -40.2988      9.621     -4.189      0.000     -59.163     -21.435\n",
      "x17           27.5739     11.324      2.435      0.015       5.369      49.779\n",
      "x18          -10.0782      9.703     -1.039      0.299     -29.103       8.947\n",
      "x19          -43.4660      8.945     -4.859      0.000     -61.005     -25.927\n",
      "x20         -104.1165     21.519     -4.838      0.000    -146.312     -61.921\n",
      "x21          -45.9221     12.019     -3.821      0.000     -69.489     -22.355\n",
      "x22          -82.0272     21.177     -3.873      0.000    -123.552     -40.503\n",
      "x23          -77.2825     20.209     -3.824      0.000    -116.909     -37.656\n",
      "x24          -47.3501     18.043     -2.624      0.009     -82.729     -11.971\n",
      "x25          -27.7943     15.826     -1.756      0.079     -58.827       3.239\n",
      "x26          -22.0791     14.613     -1.511      0.131     -50.732       6.574\n",
      "x27          -19.2442     12.258     -1.570      0.117     -43.279       4.791\n",
      "x28          -33.6577     11.812     -2.850      0.004     -56.818     -10.497\n",
      "x29          -27.8527     11.553     -2.411      0.016     -50.505      -5.200\n",
      "x30          -54.4222     19.126     -2.845      0.004     -91.925     -16.919\n",
      "x31         -148.2200     11.395    -13.008      0.000    -170.563    -125.877\n",
      "x32         -106.2419     10.035    -10.587      0.000    -125.920     -86.564\n",
      "x33          -60.1530     11.304     -5.322      0.000     -82.317     -37.989\n",
      "x34          -41.8235      8.131     -5.143      0.000     -57.768     -25.879\n",
      "==============================================================================\n",
      "Omnibus:                      993.245   Durbin-Watson:                   1.972\n",
      "Prob(Omnibus):                  0.000   Jarque-Bera (JB):            23497.034\n",
      "Skew:                           1.118   Prob(JB):                         0.00\n",
      "Kurtosis:                      16.968   Cond. No.                         7.69\n",
      "==============================================================================\n",
      "\n",
      "Notes:\n",
      "[1] Standard Errors assume that the covariance matrix of the errors is correctly specified.\n"
     ]
    }
   ],
   "source": [
    "X, y= data_preparation(['cena całkowita', 'dzielnica', 'od', 'poziom', 'zabudowa', 'Mokotów', 'umeblowanie',\n",
    "                        'powierzchnia na pokoj', 'Osoby prywatnej', 'Powyżej 10', 'Apartamentowiec'])\n",
    "\n",
    "#standaryzacja danych\n",
    "scaler = StandardScaler()\n",
    "X = scaler.fit_transform(X)\n",
    "\n",
    "ols_regresion()"
   ]
  },
  {
   "cell_type": "markdown",
   "metadata": {},
   "source": [
    "Przeprowadzenie standaryzacji nie wpływa na jakość modelu, natomiast przjerzystość wyników, zwłaszcza współczynnika coef jest gorsza."
   ]
  },
  {
   "cell_type": "markdown",
   "metadata": {},
   "source": [
    "Przetworzone X i y zapisuję do pliku .pickle"
   ]
  },
  {
   "cell_type": "code",
   "execution_count": 96,
   "metadata": {},
   "outputs": [],
   "source": [
    "X, y= data_preparation(['cena całkowita', 'dzielnica', 'od', 'poziom', 'zabudowa', 'Mokotów', 'umeblowanie',\n",
    "                        'powierzchnia na pokoj', 'Osoby prywatnej', 'Powyżej 10', 'Apartamentowiec'])\n",
    "\n",
    "X.to_pickle('./pickle/X.pickle')\n",
    "y.to_pickle('./pickle/y.pickle')"
   ]
  },
  {
   "cell_type": "markdown",
   "metadata": {},
   "source": [
    "Przeprowadzam wstępny testy różnych modeli metodą walidacji krzyżowej"
   ]
  },
  {
   "cell_type": "code",
   "execution_count": 90,
   "metadata": {},
   "outputs": [
    {
     "name": "stdout",
     "output_type": "stream",
     "text": [
      "linear regression [0.57951856 0.57161076 0.63714924 0.48433914 0.57255247]\n",
      "knn regressor [0.58361357 0.57226998 0.60035742 0.41297776 0.4854528 ]\n",
      "random forest regressor [0.64219817 0.66759578 0.70914234 0.56912947 0.61189814]\n"
     ]
    }
   ],
   "source": [
    "linear_regression_cross = cross_val_score(LinearRegression(), X, y)\n",
    "knn_cross = cross_val_score(KNeighborsRegressor(), X, y)\n",
    "random_forest_cross = cross_val_score(RandomForestRegressor(), X, y)\n",
    "\n",
    "print('linear regression', linear_regression_cross)\n",
    "print('knn regressor', knn_cross)\n",
    "print('random forest regressor', random_forest_cross)"
   ]
  },
  {
   "cell_type": "markdown",
   "metadata": {},
   "source": [
    "Regresor lasów losowych radzi sobie najlepiej. Model regresji liniowej przewiduje ceny trochę gorzej.\n",
    "\n",
    "Problemem jest wysoka wariancja poszczególnych wyników walidacji krzyżowej"
   ]
  },
  {
   "cell_type": "code",
   "execution_count": null,
   "metadata": {},
   "outputs": [],
   "source": []
  }
 ],
 "metadata": {
  "kernelspec": {
   "display_name": "Python 3",
   "language": "python",
   "name": "python3"
  },
  "language_info": {
   "codemirror_mode": {
    "name": "ipython",
    "version": 3
   },
   "file_extension": ".py",
   "mimetype": "text/x-python",
   "name": "python",
   "nbconvert_exporter": "python",
   "pygments_lexer": "ipython3",
   "version": "3.8.5"
  }
 },
 "nbformat": 4,
 "nbformat_minor": 4
}
